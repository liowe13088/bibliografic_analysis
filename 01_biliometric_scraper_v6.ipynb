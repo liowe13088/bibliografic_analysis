{
 "cells": [
  {
   "cell_type": "markdown",
   "id": "fc3bd122",
   "metadata": {},
   "source": [
    "# Scrape Articles from Web of Science\n",
    "\n",
    "- give set of keywords\n",
    "- safe all corresponding papers as bibtex files\n",
    "\n",
    "- bibtex as zip can be used as input for biblishiny\n",
    "\n",
    "\n",
    "For this project we will use Selenium since compared to the more basic scraping libraries it does support more functions that are needed in this case (button pushing, choosing from drop down menu). Additionally it disguises to some extend as a user and incorporates therefore some basic protection from scrape-defense mechanisms.\n",
    "\n",
    "Orientation on the following Tutorial:\n",
    "- https://thiagomarzagao.com/2013/11/12/webscraping-with-selenium-part-1/\n",
    "\n",
    "\n",
    "Changelog v5 to v6:\n",
    "- also specifically exclude Withdrawn papers and reprints while searching"
   ]
  },
  {
   "cell_type": "code",
   "execution_count": 1,
   "id": "890f5536",
   "metadata": {
    "ExecuteTime": {
     "end_time": "2022-04-05T10:50:23.525497Z",
     "start_time": "2022-04-05T10:50:23.521497Z"
    }
   },
   "outputs": [],
   "source": [
    "## set up set of keywords\n",
    "\n",
    "keywords = ['alliance', 'joint_venture', 'network', 'university_industry',\n",
    "       'ecosystem', 'interorg', 'consorti', 'r&d', 'new_product_development',\n",
    "       'npd', 'partnership', 'interfirm', 'across_boundaries', 'platform',\n",
    "       'tournament', 'contest', 'intermediar', 'broadcast_search',\n",
    "       'collaboration', 'collective_intelligence', 'community', 'co_creation',\n",
    "       'cumulative_innovation', 'crowdsourcing', 'customer_involvement',\n",
    "       'customer_integration', 'distributed_innovation', 'lead_user',\n",
    "       'open_innovation', 'open_source', 'peer_production', 'user_innovation',\n",
    "       'consumer_innovation', 'wisdom_of_the_crowd', 'co_production',\n",
    "       'free_innovation', 'household_innovation']\n",
    "\n",
    "\n",
    "# certain keywwords had to be adjusted to work with the WoS search function:\n",
    "# rnd > r&d\n",
    "# interorg > interorg*\n",
    "# connsorti > consorti*\n",
    "# etc.\n",
    "\n",
    "## for simplicity each search term got the * at the end\n",
    "## this tells WoS to search for any term that starts with the given letters\n",
    "## eventually one wants to decide for the final dataset which keywords should get the * and which ones not!"
   ]
  },
  {
   "cell_type": "markdown",
   "id": "00fca4f3",
   "metadata": {},
   "source": [
    "\n",
    "#### how this scraper works:\n",
    "Since the last scrape, the amount of literature exploded. WoS only shows the first 100.000 records of a search.\n",
    "To make sure we always get less than 100.000 records per search we search for each keyword on its own.\n",
    "Additionally, we search twice for each keyword - once for articles before 2019 (excl.) and once for articles after 2019 (incl.).\n",
    "In that fashion, each search finds less than 100.000 records and the actual scraping can be conducted without any issue.\n",
    "\n",
    "1. for each keyword we generate the appropriate advanced search string\n",
    "    - innovation in all search categories\n",
    "    - the current keyword in \"TS\" (title,abstract,keywords,keyword+)\n",
    "    - the timeframe where the articles were published\n",
    "    - Doc type =  Article, not book chapter or book or proceeding\n",
    "\n",
    "\n"
   ]
  },
  {
   "cell_type": "code",
   "execution_count": 2,
   "id": "b7741b6a",
   "metadata": {
    "ExecuteTime": {
     "end_time": "2022-04-05T10:50:24.625835Z",
     "start_time": "2022-04-05T10:50:24.622325Z"
    }
   },
   "outputs": [],
   "source": [
    "\n",
    "# generate query code for advanced search:\n",
    "# add * to make sure that interorg gets also interorganisational\n",
    "\n",
    "def generate_query_time1(keyword):\n",
    "    query = f\"((((TS=({keyword}*)) AND ALL=(innovation)) AND DT=(Article)) NOT DT=(Book Chapter OR Proceedings Paper OR Book OR Reprint OR Withdrawn Publication)) AND PY=(1900-2018)\"\n",
    "    return query\n",
    "\n",
    "def generate_query_time2(keyword):\n",
    "    query = f\"((((TS=({keyword}*)) AND ALL=(innovation)) AND DT=(Article)) NOT DT=(Book Chapter OR Proceedings Paper OR Book OR Reprint OR Withdrawn Publication)) AND PY=(2019-2021)\"\n",
    "    return query\n",
    "\n",
    "\n",
    "queries = [generate_query_time1(kw) for kw in keywords]+[generate_query_time2(kw) for kw in keywords]\n"
   ]
  },
  {
   "cell_type": "code",
   "execution_count": 3,
   "id": "fa6c334b",
   "metadata": {
    "ExecuteTime": {
     "end_time": "2022-04-05T10:50:25.385842Z",
     "start_time": "2022-04-05T10:50:25.358611Z"
    }
   },
   "outputs": [],
   "source": [
    "import math\n",
    "from tqdm import tqdm\n",
    "import os\n",
    "import os.path\n",
    "import time\n",
    "\n",
    "\n",
    "# define actual scraping function\n",
    "\n",
    "# get number of iterations: n_papers/1000\n",
    "\n",
    "def scrape_search(n_papers,keyword,batch):\n",
    "    '''\n",
    "    input: n_papers - number of papers that the current search found\n",
    "        keyword - keyword on which current search is based\n",
    "        batch - 0 or 1 depending on before or after 2019\n",
    "        \n",
    "    output: none, saves BibTeX files directly under an appropriate name (indicating keyword and batch)\n",
    "    \n",
    "    the function is downloading all records of a search. thereby each BibTeX file can contain a maximum of 1000 records\n",
    "    if a search contains more records the function detects that automatically and downloads all records, saving them \n",
    "    in n_papers/1000 papers.\n",
    "    '''\n",
    "\n",
    "    iterations = math.ceil(n_papers/1000)\n",
    "    start = 1\n",
    "    end = 1000\n",
    "\n",
    "    # for each iteration:\n",
    "    for i in tqdm(range(iterations)):\n",
    "                \n",
    "        time.sleep(5)\n",
    "        \n",
    "        while True:\n",
    "            try:\n",
    "                # 1. click Export button to open drop down\n",
    "                browser.find_element(By.XPATH, '//*[@id=\"snRecListTop\"]/app-export-menu/div/button').click()\n",
    "                break\n",
    "            except:\n",
    "                time.sleep(2)\n",
    "        \n",
    "        time.sleep(5)\n",
    "        \n",
    "        # 2. click on BibTex\n",
    "        browser.find_element(By.XPATH, '//*[@id=\"exportToBibtexButton\"]').click()\n",
    "        \n",
    "\n",
    "        time.sleep(1)\n",
    "        # 3. open \"Record Content\" drop down menu and choose \"Full Record\"\n",
    "        browser.find_element(By.XPATH, '/html/body/app-wos/div/div/main/div/div[2]/app-input-route[1]/app-export-overlay/div/div[3]/div[2]/app-export-out-details/div/div[2]/form/div/div[1]/wos-select/button').click()\n",
    "        browser.find_element(By.XPATH, '//*[@id=\"global-select\"]/div/div[2]/div[3]/span').click()\n",
    "\n",
    "        time.sleep(1)\n",
    "        # 4. choose \"Records from\" and enter correct number depending on iteration\n",
    "        browser.find_element(By.XPATH, '//*[@id=\"radio3\"]/label/span[1]').click()\n",
    "        time.sleep(1)\n",
    "        browser.find_element(By.CSS_SELECTOR,'[aria-label=\"Input starting record range\"]').clear()\n",
    "        browser.find_element(By.CSS_SELECTOR,'[aria-label=\"Input starting record range\"]').send_keys(start)\n",
    "        browser.find_element(By.CSS_SELECTOR,'[aria-label=\"Input ending record range\"]').clear()\n",
    "        browser.find_element(By.CSS_SELECTOR,'[aria-label=\"Input ending record range\"]').send_keys(end)\n",
    "\n",
    "        # update start and end\n",
    "        start += 1000\n",
    "        end += 1000\n",
    "\n",
    "        # 5. click export and save resulting bibtex file\n",
    "        browser.find_element(By.XPATH, '/html/body/app-wos/div/div/main/div/div[2]/app-input-route[1]/app-export-overlay/div/div[3]/div[2]/app-export-out-details/div/div[2]/form/div/div[2]/button[1]').click()\n",
    "        \n",
    "        ## problems with the naming\n",
    "        ## wait until download ended before renaming\n",
    "        file_path = r'C:\\Users\\Lion\\Documents\\UNI4_RWTH\\tim_hiwi_job\\bibliometric_analysis\\scrape_data\\savedrecs.bib'\n",
    "        \n",
    "        while not os.path.exists(file_path):\n",
    "            time.sleep(1)\n",
    "\n",
    "        if os.path.isfile(file_path):\n",
    "            filename = r\"scrape_data/savedrecs.bib\"\n",
    "            new_filename = f\"scrape_data/{keyword}_{i}{batch}.bib\"\n",
    "            os.rename(filename,new_filename)\n",
    "        else:\n",
    "            raise ValueError(\"%s isn't a file!\" % file_path)\n",
    "        "
   ]
  },
  {
   "cell_type": "code",
   "execution_count": 7,
   "id": "0918ed50",
   "metadata": {
    "ExecuteTime": {
     "end_time": "2022-04-05T11:33:47.991867Z",
     "start_time": "2022-04-05T11:33:47.987866Z"
    }
   },
   "outputs": [],
   "source": [
    "import re\n",
    "\n",
    "# define function to extract the keyword from the generated query\n",
    "# to pass that keyword to our scrape function so we can name the bibtex files correctly\n",
    "\n",
    "def extract_kw(q):\n",
    "    m = re.search(\"[a-z]+([_&]?[a-z]+)*\",q)\n",
    "    return m.group(0)"
   ]
  },
  {
   "cell_type": "code",
   "execution_count": 5,
   "id": "75caabaf",
   "metadata": {
    "ExecuteTime": {
     "end_time": "2022-04-05T10:50:28.713387Z",
     "start_time": "2022-04-05T10:50:27.497809Z"
    }
   },
   "outputs": [],
   "source": [
    "## starts a new chrome window, dont close!\n",
    "\n",
    "from selenium import webdriver\n",
    "from selenium.webdriver.chrome.options import Options\n",
    "import time\n",
    "from selenium.webdriver.common.by import By\n",
    "\n",
    "# download chromedriver here:\n",
    "# https://sites.google.com/chromium.org/driver/\n",
    "# unpack zip and add to skript directory, change path if needed\n",
    "\n",
    "# set download directory\n",
    "prefs = {'download.default_directory' : r'C:\\Users\\Lion\\Documents\\UNI4_RWTH\\tim_hiwi_job\\bibliometric_analysis\\scrape_data'}\n",
    "options = Options()\n",
    "options.add_experimental_option(\"prefs\", prefs)\n",
    "\n",
    "# # start instance of browser with selenium\n",
    "path_to_chromedriver = 'chromedriver' # change path as needed\n",
    "browser = webdriver.Chrome(executable_path = path_to_chromedriver,\n",
    "                          options = options)\n"
   ]
  },
  {
   "cell_type": "code",
   "execution_count": 14,
   "id": "d30bdb36",
   "metadata": {
    "ExecuteTime": {
     "end_time": "2022-04-05T13:33:17.384431Z",
     "start_time": "2022-04-05T12:16:36.685885Z"
    },
    "scrolled": false
   },
   "outputs": [
    {
     "name": "stdout",
     "output_type": "stream",
     "text": [
      "alliance\n",
      "joint_venture\n",
      "network\n",
      "university_industry\n",
      "ecosystem\n",
      "interorg\n",
      "consorti\n",
      "r&d\n",
      "new_product_development\n",
      "npd\n",
      "partnership\n",
      "interfirm\n",
      "across_boundaries\n",
      "platform\n",
      "tournament\n",
      "contest\n",
      "intermediar\n",
      "broadcast_search\n",
      "collaboration\n",
      "18: collaboration: 9986 papers found\n"
     ]
    },
    {
     "name": "stderr",
     "output_type": "stream",
     "text": [
      "100%|██████████████████████████████████████████████████████████████████████████████████| 10/10 [02:27<00:00, 14.70s/it]\n"
     ]
    },
    {
     "name": "stdout",
     "output_type": "stream",
     "text": [
      "collective_intelligence\n",
      "19: collective_intelligence: 102 papers found\n"
     ]
    },
    {
     "name": "stderr",
     "output_type": "stream",
     "text": [
      "100%|████████████████████████████████████████████████████████████████████████████████████| 1/1 [00:14<00:00, 14.49s/it]\n"
     ]
    },
    {
     "name": "stdout",
     "output_type": "stream",
     "text": [
      "community\n",
      "20: community: 26982 papers found\n"
     ]
    },
    {
     "name": "stderr",
     "output_type": "stream",
     "text": [
      "100%|██████████████████████████████████████████████████████████████████████████████████| 27/27 [09:04<00:00, 20.17s/it]\n"
     ]
    },
    {
     "name": "stdout",
     "output_type": "stream",
     "text": [
      "co_creation\n",
      "21: co_creation: 877 papers found\n"
     ]
    },
    {
     "name": "stderr",
     "output_type": "stream",
     "text": [
      "100%|████████████████████████████████████████████████████████████████████████████████████| 1/1 [00:17<00:00, 17.47s/it]\n"
     ]
    },
    {
     "name": "stdout",
     "output_type": "stream",
     "text": [
      "cumulative_innovation\n",
      "22: cumulative_innovation: 54 papers found\n"
     ]
    },
    {
     "name": "stderr",
     "output_type": "stream",
     "text": [
      "100%|████████████████████████████████████████████████████████████████████████████████████| 1/1 [00:14<00:00, 14.48s/it]\n"
     ]
    },
    {
     "name": "stdout",
     "output_type": "stream",
     "text": [
      "crowdsourcing\n",
      "23: crowdsourcing: 465 papers found\n"
     ]
    },
    {
     "name": "stderr",
     "output_type": "stream",
     "text": [
      "100%|████████████████████████████████████████████████████████████████████████████████████| 1/1 [00:16<00:00, 16.46s/it]\n"
     ]
    },
    {
     "name": "stdout",
     "output_type": "stream",
     "text": [
      "customer_involvement\n",
      "24: customer_involvement: 94 papers found\n"
     ]
    },
    {
     "name": "stderr",
     "output_type": "stream",
     "text": [
      "100%|████████████████████████████████████████████████████████████████████████████████████| 1/1 [00:14<00:00, 14.48s/it]\n"
     ]
    },
    {
     "name": "stdout",
     "output_type": "stream",
     "text": [
      "customer_integration\n",
      "25: customer_integration: 61 papers found\n"
     ]
    },
    {
     "name": "stderr",
     "output_type": "stream",
     "text": [
      "100%|████████████████████████████████████████████████████████████████████████████████████| 1/1 [00:16<00:00, 16.49s/it]\n"
     ]
    },
    {
     "name": "stdout",
     "output_type": "stream",
     "text": [
      "distributed_innovation\n",
      "26: distributed_innovation: 110 papers found\n"
     ]
    },
    {
     "name": "stderr",
     "output_type": "stream",
     "text": [
      "100%|████████████████████████████████████████████████████████████████████████████████████| 1/1 [00:14<00:00, 14.47s/it]\n"
     ]
    },
    {
     "name": "stdout",
     "output_type": "stream",
     "text": [
      "lead_user\n",
      "27: lead_user: 205 papers found\n"
     ]
    },
    {
     "name": "stderr",
     "output_type": "stream",
     "text": [
      "100%|████████████████████████████████████████████████████████████████████████████████████| 1/1 [00:16<00:00, 16.48s/it]\n"
     ]
    },
    {
     "name": "stdout",
     "output_type": "stream",
     "text": [
      "open_innovation\n",
      "28: open_innovation: 1623 papers found\n"
     ]
    },
    {
     "name": "stderr",
     "output_type": "stream",
     "text": [
      "100%|████████████████████████████████████████████████████████████████████████████████████| 2/2 [00:34<00:00, 17.45s/it]\n"
     ]
    },
    {
     "name": "stdout",
     "output_type": "stream",
     "text": [
      "open_source\n",
      "29: open_source: 2003 papers found\n"
     ]
    },
    {
     "name": "stderr",
     "output_type": "stream",
     "text": [
      "100%|████████████████████████████████████████████████████████████████████████████████████| 3/3 [00:53<00:00, 17.79s/it]\n"
     ]
    },
    {
     "name": "stdout",
     "output_type": "stream",
     "text": [
      "peer_production\n",
      "30: peer_production: 30 papers found\n"
     ]
    },
    {
     "name": "stderr",
     "output_type": "stream",
     "text": [
      "100%|████████████████████████████████████████████████████████████████████████████████████| 1/1 [00:14<00:00, 14.43s/it]\n"
     ]
    },
    {
     "name": "stdout",
     "output_type": "stream",
     "text": [
      "user_innovation\n",
      "31: user_innovation: 232 papers found\n"
     ]
    },
    {
     "name": "stderr",
     "output_type": "stream",
     "text": [
      "100%|████████████████████████████████████████████████████████████████████████████████████| 1/1 [00:15<00:00, 15.55s/it]\n"
     ]
    },
    {
     "name": "stdout",
     "output_type": "stream",
     "text": [
      "consumer_innovation\n",
      "32: consumer_innovation: 31 papers found\n"
     ]
    },
    {
     "name": "stderr",
     "output_type": "stream",
     "text": [
      "100%|████████████████████████████████████████████████████████████████████████████████████| 1/1 [00:14<00:00, 14.45s/it]\n"
     ]
    },
    {
     "name": "stdout",
     "output_type": "stream",
     "text": [
      "wisdom_of_the_crowd\n",
      "33: wisdom_of_the_crowd: 17 papers found\n"
     ]
    },
    {
     "name": "stderr",
     "output_type": "stream",
     "text": [
      "100%|████████████████████████████████████████████████████████████████████████████████████| 1/1 [00:14<00:00, 14.43s/it]\n"
     ]
    },
    {
     "name": "stdout",
     "output_type": "stream",
     "text": [
      "co_production\n",
      "34: co_production: 429 papers found\n"
     ]
    },
    {
     "name": "stderr",
     "output_type": "stream",
     "text": [
      "100%|████████████████████████████████████████████████████████████████████████████████████| 1/1 [00:16<00:00, 16.47s/it]\n"
     ]
    },
    {
     "name": "stdout",
     "output_type": "stream",
     "text": [
      "free_innovation\n",
      "35: free_innovation: 5 papers found\n"
     ]
    },
    {
     "name": "stderr",
     "output_type": "stream",
     "text": [
      "100%|████████████████████████████████████████████████████████████████████████████████████| 1/1 [00:14<00:00, 14.41s/it]\n"
     ]
    },
    {
     "name": "stdout",
     "output_type": "stream",
     "text": [
      "household_innovation\n",
      "36: household_innovation: 2 papers found\n"
     ]
    },
    {
     "name": "stderr",
     "output_type": "stream",
     "text": [
      "100%|████████████████████████████████████████████████████████████████████████████████████| 1/1 [00:14<00:00, 14.43s/it]\n"
     ]
    },
    {
     "name": "stdout",
     "output_type": "stream",
     "text": [
      "alliance\n",
      "37: alliance: 1368 papers found\n"
     ]
    },
    {
     "name": "stderr",
     "output_type": "stream",
     "text": [
      "100%|████████████████████████████████████████████████████████████████████████████████████| 2/2 [00:35<00:00, 17.51s/it]\n"
     ]
    },
    {
     "name": "stdout",
     "output_type": "stream",
     "text": [
      "joint_venture\n",
      "38: joint_venture: 212 papers found\n"
     ]
    },
    {
     "name": "stderr",
     "output_type": "stream",
     "text": [
      "100%|████████████████████████████████████████████████████████████████████████████████████| 1/1 [00:15<00:00, 15.46s/it]\n"
     ]
    },
    {
     "name": "stdout",
     "output_type": "stream",
     "text": [
      "network\n",
      "39: network: 55847 papers found\n"
     ]
    },
    {
     "name": "stderr",
     "output_type": "stream",
     "text": [
      "100%|██████████████████████████████████████████████████████████████████████████████████| 56/56 [19:11<00:00, 20.57s/it]\n"
     ]
    },
    {
     "name": "stdout",
     "output_type": "stream",
     "text": [
      "university_industry\n",
      "40: university_industry: 375 papers found\n"
     ]
    },
    {
     "name": "stderr",
     "output_type": "stream",
     "text": [
      "100%|████████████████████████████████████████████████████████████████████████████████████| 1/1 [00:15<00:00, 15.47s/it]\n"
     ]
    },
    {
     "name": "stdout",
     "output_type": "stream",
     "text": [
      "ecosystem\n",
      "41: ecosystem: 11367 papers found\n"
     ]
    },
    {
     "name": "stderr",
     "output_type": "stream",
     "text": [
      "100%|██████████████████████████████████████████████████████████████████████████████████| 12/12 [04:05<00:00, 20.43s/it]\n"
     ]
    },
    {
     "name": "stdout",
     "output_type": "stream",
     "text": [
      "interorg\n",
      "42: interorg: 372 papers found\n"
     ]
    },
    {
     "name": "stderr",
     "output_type": "stream",
     "text": [
      "100%|████████████████████████████████████████████████████████████████████████████████████| 1/1 [00:15<00:00, 15.50s/it]\n"
     ]
    },
    {
     "name": "stdout",
     "output_type": "stream",
     "text": [
      "consorti\n",
      "43: consorti: 1866 papers found\n"
     ]
    },
    {
     "name": "stderr",
     "output_type": "stream",
     "text": [
      "100%|████████████████████████████████████████████████████████████████████████████████████| 2/2 [00:49<00:00, 24.50s/it]\n"
     ]
    },
    {
     "name": "stdout",
     "output_type": "stream",
     "text": [
      "r&d\n",
      "44: r&d: 4284 papers found\n"
     ]
    },
    {
     "name": "stderr",
     "output_type": "stream",
     "text": [
      "100%|████████████████████████████████████████████████████████████████████████████████████| 5/5 [01:43<00:00, 20.69s/it]\n"
     ]
    },
    {
     "name": "stdout",
     "output_type": "stream",
     "text": [
      "new_product_development\n",
      "45: new_product_development: 515 papers found\n"
     ]
    },
    {
     "name": "stderr",
     "output_type": "stream",
     "text": [
      "100%|████████████████████████████████████████████████████████████████████████████████████| 1/1 [00:16<00:00, 16.51s/it]\n"
     ]
    },
    {
     "name": "stdout",
     "output_type": "stream",
     "text": [
      "npd\n",
      "46: npd: 343 papers found\n"
     ]
    },
    {
     "name": "stderr",
     "output_type": "stream",
     "text": [
      "100%|████████████████████████████████████████████████████████████████████████████████████| 1/1 [00:17<00:00, 17.47s/it]\n"
     ]
    },
    {
     "name": "stdout",
     "output_type": "stream",
     "text": [
      "partnership\n",
      "47: partnership: 2537 papers found\n"
     ]
    },
    {
     "name": "stderr",
     "output_type": "stream",
     "text": [
      "100%|████████████████████████████████████████████████████████████████████████████████████| 3/3 [00:54<00:00, 18.15s/it]\n"
     ]
    },
    {
     "name": "stdout",
     "output_type": "stream",
     "text": [
      "interfirm\n",
      "48: interfirm: 201 papers found\n"
     ]
    },
    {
     "name": "stderr",
     "output_type": "stream",
     "text": [
      "100%|████████████████████████████████████████████████████████████████████████████████████| 1/1 [00:15<00:00, 15.48s/it]\n"
     ]
    },
    {
     "name": "stdout",
     "output_type": "stream",
     "text": [
      "across_boundaries\n",
      "49: across_boundaries: 27 papers found\n"
     ]
    },
    {
     "name": "stderr",
     "output_type": "stream",
     "text": [
      "100%|████████████████████████████████████████████████████████████████████████████████████| 1/1 [00:14<00:00, 14.47s/it]\n"
     ]
    },
    {
     "name": "stdout",
     "output_type": "stream",
     "text": [
      "platform\n",
      "50: platform: 18619 papers found\n"
     ]
    },
    {
     "name": "stderr",
     "output_type": "stream",
     "text": [
      "100%|██████████████████████████████████████████████████████████████████████████████████| 19/19 [06:20<00:00, 20.04s/it]\n"
     ]
    },
    {
     "name": "stdout",
     "output_type": "stream",
     "text": [
      "tournament\n",
      "51: tournament: 132 papers found\n"
     ]
    },
    {
     "name": "stderr",
     "output_type": "stream",
     "text": [
      "100%|████████████████████████████████████████████████████████████████████████████████████| 1/1 [00:15<00:00, 15.49s/it]\n"
     ]
    },
    {
     "name": "stdout",
     "output_type": "stream",
     "text": [
      "contest\n",
      "52: contest: 1143 papers found\n"
     ]
    },
    {
     "name": "stderr",
     "output_type": "stream",
     "text": [
      "100%|████████████████████████████████████████████████████████████████████████████████████| 2/2 [00:36<00:00, 18.00s/it]\n"
     ]
    },
    {
     "name": "stdout",
     "output_type": "stream",
     "text": [
      "intermediar\n",
      "53: intermediar: 963 papers found\n"
     ]
    },
    {
     "name": "stderr",
     "output_type": "stream",
     "text": [
      "100%|████████████████████████████████████████████████████████████████████████████████████| 1/1 [00:18<00:00, 18.50s/it]\n"
     ]
    },
    {
     "name": "stdout",
     "output_type": "stream",
     "text": [
      "broadcast_search\n",
      "54: broadcast_search: 1 papers found\n"
     ]
    },
    {
     "name": "stderr",
     "output_type": "stream",
     "text": [
      "100%|████████████████████████████████████████████████████████████████████████████████████| 1/1 [00:14<00:00, 14.41s/it]\n"
     ]
    },
    {
     "name": "stdout",
     "output_type": "stream",
     "text": [
      "collaboration\n",
      "55: collaboration: 7628 papers found\n"
     ]
    },
    {
     "name": "stderr",
     "output_type": "stream",
     "text": [
      "100%|████████████████████████████████████████████████████████████████████████████████████| 8/8 [03:03<00:00, 22.99s/it]\n"
     ]
    },
    {
     "name": "stdout",
     "output_type": "stream",
     "text": [
      "collective_intelligence\n",
      "56: collective_intelligence: 84 papers found\n"
     ]
    },
    {
     "name": "stderr",
     "output_type": "stream",
     "text": [
      "100%|████████████████████████████████████████████████████████████████████████████████████| 1/1 [00:14<00:00, 14.51s/it]\n"
     ]
    },
    {
     "name": "stdout",
     "output_type": "stream",
     "text": [
      "community\n",
      "57: community: 20082 papers found\n"
     ]
    },
    {
     "name": "stderr",
     "output_type": "stream",
     "text": [
      "100%|██████████████████████████████████████████████████████████████████████████████████| 21/21 [07:02<00:00, 20.10s/it]\n"
     ]
    },
    {
     "name": "stdout",
     "output_type": "stream",
     "text": [
      "co_creation\n",
      "58: co_creation: 1266 papers found\n"
     ]
    },
    {
     "name": "stderr",
     "output_type": "stream",
     "text": [
      "100%|████████████████████████████████████████████████████████████████████████████████████| 2/2 [00:33<00:00, 16.98s/it]\n"
     ]
    },
    {
     "name": "stdout",
     "output_type": "stream",
     "text": [
      "cumulative_innovation\n",
      "59: cumulative_innovation: 24 papers found\n"
     ]
    },
    {
     "name": "stderr",
     "output_type": "stream",
     "text": [
      "100%|████████████████████████████████████████████████████████████████████████████████████| 1/1 [00:14<00:00, 14.44s/it]\n"
     ]
    },
    {
     "name": "stdout",
     "output_type": "stream",
     "text": [
      "crowdsourcing\n",
      "60: crowdsourcing: 473 papers found\n"
     ]
    },
    {
     "name": "stderr",
     "output_type": "stream",
     "text": [
      "100%|████████████████████████████████████████████████████████████████████████████████████| 1/1 [00:16<00:00, 16.50s/it]\n"
     ]
    },
    {
     "name": "stdout",
     "output_type": "stream",
     "text": [
      "customer_involvement\n",
      "61: customer_involvement: 66 papers found\n"
     ]
    },
    {
     "name": "stderr",
     "output_type": "stream",
     "text": [
      "100%|████████████████████████████████████████████████████████████████████████████████████| 1/1 [00:14<00:00, 14.49s/it]\n"
     ]
    },
    {
     "name": "stdout",
     "output_type": "stream",
     "text": [
      "customer_integration\n",
      "62: customer_integration: 29 papers found\n"
     ]
    },
    {
     "name": "stderr",
     "output_type": "stream",
     "text": [
      "100%|████████████████████████████████████████████████████████████████████████████████████| 1/1 [00:14<00:00, 14.46s/it]\n"
     ]
    },
    {
     "name": "stdout",
     "output_type": "stream",
     "text": [
      "distributed_innovation\n",
      "63: distributed_innovation: 34 papers found\n"
     ]
    },
    {
     "name": "stderr",
     "output_type": "stream",
     "text": [
      "100%|████████████████████████████████████████████████████████████████████████████████████| 1/1 [00:14<00:00, 14.45s/it]\n"
     ]
    },
    {
     "name": "stdout",
     "output_type": "stream",
     "text": [
      "lead_user\n",
      "64: lead_user: 60 papers found\n"
     ]
    },
    {
     "name": "stderr",
     "output_type": "stream",
     "text": [
      "100%|████████████████████████████████████████████████████████████████████████████████████| 1/1 [00:14<00:00, 14.47s/it]\n"
     ]
    },
    {
     "name": "stdout",
     "output_type": "stream",
     "text": [
      "open_innovation\n",
      "65: open_innovation: 1388 papers found\n"
     ]
    },
    {
     "name": "stderr",
     "output_type": "stream",
     "text": [
      "100%|████████████████████████████████████████████████████████████████████████████████████| 2/2 [00:35<00:00, 17.51s/it]\n"
     ]
    },
    {
     "name": "stdout",
     "output_type": "stream",
     "text": [
      "open_source\n",
      "66: open_source: 2032 papers found\n"
     ]
    },
    {
     "name": "stderr",
     "output_type": "stream",
     "text": [
      "100%|████████████████████████████████████████████████████████████████████████████████████| 3/3 [00:54<00:00, 18.15s/it]\n"
     ]
    },
    {
     "name": "stdout",
     "output_type": "stream",
     "text": [
      "peer_production\n",
      "67: peer_production: 21 papers found\n"
     ]
    },
    {
     "name": "stderr",
     "output_type": "stream",
     "text": [
      "100%|████████████████████████████████████████████████████████████████████████████████████| 1/1 [00:15<00:00, 15.45s/it]\n"
     ]
    },
    {
     "name": "stdout",
     "output_type": "stream",
     "text": [
      "user_innovation\n",
      "68: user_innovation: 108 papers found\n"
     ]
    },
    {
     "name": "stderr",
     "output_type": "stream",
     "text": [
      "100%|████████████████████████████████████████████████████████████████████████████████████| 1/1 [00:14<00:00, 14.49s/it]\n"
     ]
    },
    {
     "name": "stdout",
     "output_type": "stream",
     "text": [
      "consumer_innovation\n",
      "69: consumer_innovation: 33 papers found\n"
     ]
    },
    {
     "name": "stderr",
     "output_type": "stream",
     "text": [
      "100%|████████████████████████████████████████████████████████████████████████████████████| 1/1 [00:14<00:00, 14.47s/it]\n"
     ]
    },
    {
     "name": "stdout",
     "output_type": "stream",
     "text": [
      "wisdom_of_the_crowd\n",
      "70: wisdom_of_the_crowd: 17 papers found\n"
     ]
    },
    {
     "name": "stderr",
     "output_type": "stream",
     "text": [
      "100%|████████████████████████████████████████████████████████████████████████████████████| 1/1 [00:14<00:00, 14.44s/it]\n"
     ]
    },
    {
     "name": "stdout",
     "output_type": "stream",
     "text": [
      "co_production\n",
      "71: co_production: 578 papers found\n"
     ]
    },
    {
     "name": "stderr",
     "output_type": "stream",
     "text": [
      "100%|████████████████████████████████████████████████████████████████████████████████████| 1/1 [00:16<00:00, 16.46s/it]\n"
     ]
    },
    {
     "name": "stdout",
     "output_type": "stream",
     "text": [
      "free_innovation\n",
      "72: free_innovation: 13 papers found\n"
     ]
    },
    {
     "name": "stderr",
     "output_type": "stream",
     "text": [
      "100%|████████████████████████████████████████████████████████████████████████████████████| 1/1 [00:14<00:00, 14.45s/it]\n"
     ]
    },
    {
     "name": "stdout",
     "output_type": "stream",
     "text": [
      "household_innovation\n",
      "73: household_innovation: 10 papers found\n"
     ]
    },
    {
     "name": "stderr",
     "output_type": "stream",
     "text": [
      "100%|████████████████████████████████████████████████████████████████████████████████████| 1/1 [00:14<00:00, 14.41s/it]\n"
     ]
    }
   ],
   "source": [
    "# uses the open chrome window to do search for each query and call scrape function\n",
    "\n",
    "\n",
    "url = \"https://www.webofscience.com/wos/woscc/advanced-search\"\n",
    "\n",
    "# if scraping interrupts (often on WoS side with \"internal server error)\n",
    "# put in here - if first batch done only once, if both twice\n",
    "done = ['alliance', 'joint_venture', 'network', 'university_industry',\n",
    "       'ecosystem', 'interorg', 'consorti', 'r&d', 'new_product_development',\n",
    "       'npd', 'partnership', 'interfirm', 'across_boundaries', 'platform',\n",
    "       'tournament', 'contest', 'intermediar', 'broadcast_search']\n",
    "\n",
    "# loop that searches each generated query and then calls our earlier defined scraping function\n",
    "\n",
    "for count,query in enumerate(queries): #keep track of number of iterations to define batch (count) with enumerate()\n",
    "    \n",
    "    # until query 36 we have pre 2019, afterwards all the post 2019 queries\n",
    "    if count <= 36:\n",
    "        batch=1\n",
    "    else: batch=2\n",
    "    \n",
    "    # extract the current keyword from the query\n",
    "    kw = extract_kw(query)\n",
    "    \n",
    "    print(kw)\n",
    "    if kw in done:\n",
    "        done.remove(kw)\n",
    "    else:\n",
    "        # open page and conduct search\n",
    "        browser.get(url)\n",
    "\n",
    "        # important to cancel out the time needed to load certain element on a web page\n",
    "        # sleep statements might have to be longer or can be shorter depending on the internet connection\n",
    "        time.sleep(2)\n",
    "\n",
    "        # reject cookies if needed (only first time)\n",
    "        try:\n",
    "            browser.find_element(By.XPATH,'//*[@id=\"onetrust-reject-all-handler\"]').click()\n",
    "        except: pass\n",
    "\n",
    "        # put generated query into search form after clearing searh form\n",
    "        browser.find_element(By.ID,'advancedSearchInputArea').clear()\n",
    "        browser.find_element(By.ID,'advancedSearchInputArea').send_keys(query)\n",
    "\n",
    "        time.sleep(1)\n",
    "\n",
    "        # click search button\n",
    "        browser.find_element(By.XPATH,'/html/body/app-wos/div/div/main/div/div[2]/app-input-route/app-search-home/div[2]/div/app-input-route/app-search-advanced/app-advanced-search-form/form/div[3]/div[1]/div[1]/div/button[2]').click()\n",
    "\n",
    "        time.sleep(4)\n",
    "\n",
    "        # get and print number of papers\n",
    "\n",
    "        n_paper = int(browser.find_element(By.CLASS_NAME, \"brand-blue\").text.replace(\",\",\"\"))\n",
    "        print(f\"{count}: {kw}: {n_paper} papers found\")\n",
    "\n",
    "        # close helper window on webpage if needed\n",
    "        try:\n",
    "            browser.find_element(By.XPATH, '//*[@id=\"pendo-button-e5808a4c\"]').click()\n",
    "        except: pass\n",
    "\n",
    "        # call scrape function\n",
    "        scrape_search(n_paper,kw,batch)\n",
    "    "
   ]
  }
 ],
 "metadata": {
  "hide_input": false,
  "kernelspec": {
   "display_name": "Python 3 (ipykernel)",
   "language": "python",
   "name": "python3"
  },
  "language_info": {
   "codemirror_mode": {
    "name": "ipython",
    "version": 3
   },
   "file_extension": ".py",
   "mimetype": "text/x-python",
   "name": "python",
   "nbconvert_exporter": "python",
   "pygments_lexer": "ipython3",
   "version": "3.9.7"
  },
  "toc": {
   "base_numbering": 1,
   "nav_menu": {},
   "number_sections": true,
   "sideBar": true,
   "skip_h1_title": false,
   "title_cell": "Table of Contents",
   "title_sidebar": "Contents",
   "toc_cell": false,
   "toc_position": {},
   "toc_section_display": true,
   "toc_window_display": false
  },
  "varInspector": {
   "cols": {
    "lenName": 16,
    "lenType": 16,
    "lenVar": 40
   },
   "kernels_config": {
    "python": {
     "delete_cmd_postfix": "",
     "delete_cmd_prefix": "del ",
     "library": "var_list.py",
     "varRefreshCmd": "print(var_dic_list())"
    },
    "r": {
     "delete_cmd_postfix": ") ",
     "delete_cmd_prefix": "rm(",
     "library": "var_list.r",
     "varRefreshCmd": "cat(var_dic_list()) "
    }
   },
   "types_to_exclude": [
    "module",
    "function",
    "builtin_function_or_method",
    "instance",
    "_Feature"
   ],
   "window_display": false
  }
 },
 "nbformat": 4,
 "nbformat_minor": 5
}
