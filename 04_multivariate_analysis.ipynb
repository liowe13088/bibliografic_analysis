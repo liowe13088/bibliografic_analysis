{
 "cells": [
  {
   "cell_type": "markdown",
   "id": "8e600d09",
   "metadata": {},
   "source": [
    "# Multivariat Analysis"
   ]
  },
  {
   "cell_type": "markdown",
   "id": "eaee4531",
   "metadata": {},
   "source": [
    "### Notes from sources\n",
    "\n",
    "#### 2016 Submission\n",
    "- correlation matrix as input for FA, CA and MDS\n",
    "- Factor Analysis\n",
    "    - Apply PCA and varmax rotation as extraction algorithm\n",
    "    - final factor solution was determined by using Kaiser's criterion and Scree test\n",
    "    - only conisder loadings above 0.4 (DiSteano)\n",
    "    \n",
    "    \n",
    "#### 2012 DiStefano\n",
    "- corr matrix as input\n",
    "- FA, CA, MDS\n",
    "- FA (Mccain 1990)\n",
    "    - PCA as extraction method\n",
    "    - varimax rotation of extracted factors to interpret\n",
    "    - number of factors through kaiser and Scree\n",
    "- MDS (Kruskal and Wish, 1978)\n",
    "    - mds graph as robustness check for FA\n",
    "    - better interpret the realtionships between factors\n",
    "    - Kruskals Stress test and R-squared to check for level of fit\n",
    " \n",
    "#### 1990 McCain\n",
    "- corr matrix as input for Multivariate Analysis (PCA, CA, MDS)\n",
    "- MDS and Cluster: need both same similarity matrix (not correlation)! 1-corr\n",
    "- MDS \n",
    "    - Kruskal/R² as stopping criterion\n",
    "    - 3d often only adds little explanation power while making interpretation way more complex\n",
    "- Factor Analysis\n",
    "    - complement MDS and Cluster\n",
    "    - only vars with loading >=0.7 are useful to explain factor\n",
    "    - only loading above 0.5/0.4 shall be reported\n",
    "    - usually PCA and varmax rotation\n",
    "        - produces uncorrelated factors\n",
    "        - with most vars with high loading on only one var\n",
    "        - number of factors - eigenvalue > 1 (Kaiser Criterion)\n",
    "        - intercorrelation between factors reveals subject-related linkage above the Author level (keywordlevel)\n",
    "        - if factors are  indeppended their subject have not been yet coocured\n",
    "        "
   ]
  },
  {
   "cell_type": "markdown",
   "id": "e20b4780",
   "metadata": {},
   "source": [
    "### Import data and packages"
   ]
  },
  {
   "cell_type": "code",
   "execution_count": 11,
   "id": "3709ffc6",
   "metadata": {
    "ExecuteTime": {
     "end_time": "2022-07-26T08:44:22.865567Z",
     "start_time": "2022-07-26T08:44:22.845884Z"
    }
   },
   "outputs": [],
   "source": [
    "import pickle\n",
    "import pandas as pd\n",
    "import matplotlib.pyplot as plt\n",
    "from collections import Counter\n",
    "import numpy as np\n",
    "import pandas as pd"
   ]
  },
  {
   "cell_type": "code",
   "execution_count": 12,
   "id": "b6694070",
   "metadata": {
    "ExecuteTime": {
     "end_time": "2022-07-26T08:44:27.039285Z",
     "start_time": "2022-07-26T08:44:22.868695Z"
    }
   },
   "outputs": [],
   "source": [
    "# load data\n",
    "with open('dataframe_papers.pickle', 'rb') as f:\n",
    "    df = pickle.load(f)\n",
    "    \n",
    "# define ariable types automatically (integer, string etc. ...)\n",
    "df = df.infer_objects()\n",
    "\n",
    "# reset index (frgment from the script 2)\n",
    "df.reset_index(inplace=True,drop=True)\n",
    "\n",
    "# introduce variable in date time format\n",
    "df[\"dt_year\"] = pd.to_datetime(df[\"year\"], format=\"%Y\")"
   ]
  },
  {
   "cell_type": "code",
   "execution_count": 13,
   "id": "a7d36175",
   "metadata": {
    "ExecuteTime": {
     "end_time": "2022-07-26T08:44:29.854379Z",
     "start_time": "2022-07-26T08:44:27.039285Z"
    }
   },
   "outputs": [
    {
     "data": {
      "text/html": [
       "<div>\n",
       "<style scoped>\n",
       "    .dataframe tbody tr th:only-of-type {\n",
       "        vertical-align: middle;\n",
       "    }\n",
       "\n",
       "    .dataframe tbody tr th {\n",
       "        vertical-align: top;\n",
       "    }\n",
       "\n",
       "    .dataframe thead th {\n",
       "        text-align: right;\n",
       "    }\n",
       "</style>\n",
       "<table border=\"1\" class=\"dataframe\">\n",
       "  <thead>\n",
       "    <tr style=\"text-align: right;\">\n",
       "      <th></th>\n",
       "      <th>da</th>\n",
       "      <th>unique-id</th>\n",
       "      <th>web-of-science-index</th>\n",
       "      <th>doc-delivery-number</th>\n",
       "      <th>journal-iso</th>\n",
       "      <th>usage-count-since-2013</th>\n",
       "      <th>usage-count-last-180-days</th>\n",
       "      <th>times-cited</th>\n",
       "      <th>number-of-cited-references</th>\n",
       "      <th>orcid-numbers</th>\n",
       "      <th>...</th>\n",
       "      <th>czech</th>\n",
       "      <th>hungary</th>\n",
       "      <th>italy</th>\n",
       "      <th>lisbon</th>\n",
       "      <th>portugal</th>\n",
       "      <th>prague</th>\n",
       "      <th>romania</th>\n",
       "      <th>rome</th>\n",
       "      <th>vatican</th>\n",
       "      <th>dt_year</th>\n",
       "    </tr>\n",
       "  </thead>\n",
       "  <tbody>\n",
       "    <tr>\n",
       "      <th>0</th>\n",
       "      <td>2022-07-25</td>\n",
       "      <td>WOS:A1997YF94400004</td>\n",
       "      <td>Science Citation Index Expanded (SCI-EXPANDED)</td>\n",
       "      <td>YF944</td>\n",
       "      <td>Mineral. Mag.</td>\n",
       "      <td>3</td>\n",
       "      <td>0</td>\n",
       "      <td>34</td>\n",
       "      <td>41</td>\n",
       "      <td>NaN</td>\n",
       "      <td>...</td>\n",
       "      <td>0</td>\n",
       "      <td>0</td>\n",
       "      <td>1</td>\n",
       "      <td>0</td>\n",
       "      <td>0</td>\n",
       "      <td>0</td>\n",
       "      <td>0</td>\n",
       "      <td>1</td>\n",
       "      <td>0</td>\n",
       "      <td>1997-01-01</td>\n",
       "    </tr>\n",
       "    <tr>\n",
       "      <th>1</th>\n",
       "      <td>2022-07-25</td>\n",
       "      <td>WOS:000278865400001</td>\n",
       "      <td>Arts &amp;amp; Humanities Citation Index (A&amp;amp;HCI)</td>\n",
       "      <td>611ZW</td>\n",
       "      <td>Hist. Polit. Thought</td>\n",
       "      <td>1</td>\n",
       "      <td>0</td>\n",
       "      <td>14</td>\n",
       "      <td>53</td>\n",
       "      <td>NaN</td>\n",
       "      <td>...</td>\n",
       "      <td>0</td>\n",
       "      <td>0</td>\n",
       "      <td>1</td>\n",
       "      <td>0</td>\n",
       "      <td>0</td>\n",
       "      <td>0</td>\n",
       "      <td>0</td>\n",
       "      <td>1</td>\n",
       "      <td>0</td>\n",
       "      <td>2010-01-01</td>\n",
       "    </tr>\n",
       "    <tr>\n",
       "      <th>2</th>\n",
       "      <td>2022-07-25</td>\n",
       "      <td>WOS:000265439800025</td>\n",
       "      <td>Science Citation Index Expanded (SCI-EXPANDED)</td>\n",
       "      <td>436TU</td>\n",
       "      <td>Aquat. Ecol.</td>\n",
       "      <td>31</td>\n",
       "      <td>0</td>\n",
       "      <td>25</td>\n",
       "      <td>45</td>\n",
       "      <td>Fanelli, Giuliano/0000-0002-3143-1212</td>\n",
       "      <td>...</td>\n",
       "      <td>0</td>\n",
       "      <td>0</td>\n",
       "      <td>1</td>\n",
       "      <td>0</td>\n",
       "      <td>0</td>\n",
       "      <td>0</td>\n",
       "      <td>0</td>\n",
       "      <td>1</td>\n",
       "      <td>0</td>\n",
       "      <td>2009-01-01</td>\n",
       "    </tr>\n",
       "    <tr>\n",
       "      <th>3</th>\n",
       "      <td>2022-07-25</td>\n",
       "      <td>WOS:000245709800019</td>\n",
       "      <td>Science Citation Index Expanded (SCI-EXPANDED)</td>\n",
       "      <td>157HP</td>\n",
       "      <td>Vet. Parasitol.</td>\n",
       "      <td>29</td>\n",
       "      <td>3</td>\n",
       "      <td>110</td>\n",
       "      <td>41</td>\n",
       "      <td>Vadlejch, Jaroslav/0000-0002-5958-7606\\nPekar,...</td>\n",
       "      <td>...</td>\n",
       "      <td>1</td>\n",
       "      <td>0</td>\n",
       "      <td>0</td>\n",
       "      <td>0</td>\n",
       "      <td>0</td>\n",
       "      <td>1</td>\n",
       "      <td>0</td>\n",
       "      <td>0</td>\n",
       "      <td>0</td>\n",
       "      <td>2007-01-01</td>\n",
       "    </tr>\n",
       "    <tr>\n",
       "      <th>4</th>\n",
       "      <td>2022-07-25</td>\n",
       "      <td>WOS:000600652300243</td>\n",
       "      <td>Emerging Sources Citation Index (ESCI)</td>\n",
       "      <td>PH8JS</td>\n",
       "      <td>Data Brief</td>\n",
       "      <td>4</td>\n",
       "      <td>1</td>\n",
       "      <td>0</td>\n",
       "      <td>6</td>\n",
       "      <td>de Almeida, Ana Maria/0000-0001-9519-4634\\nNun...</td>\n",
       "      <td>...</td>\n",
       "      <td>0</td>\n",
       "      <td>0</td>\n",
       "      <td>0</td>\n",
       "      <td>1</td>\n",
       "      <td>1</td>\n",
       "      <td>0</td>\n",
       "      <td>0</td>\n",
       "      <td>0</td>\n",
       "      <td>0</td>\n",
       "      <td>2020-01-01</td>\n",
       "    </tr>\n",
       "  </tbody>\n",
       "</table>\n",
       "<p>5 rows × 62 columns</p>\n",
       "</div>"
      ],
      "text/plain": [
       "           da            unique-id  \\\n",
       "0  2022-07-25  WOS:A1997YF94400004   \n",
       "1  2022-07-25  WOS:000278865400001   \n",
       "2  2022-07-25  WOS:000265439800025   \n",
       "3  2022-07-25  WOS:000245709800019   \n",
       "4  2022-07-25  WOS:000600652300243   \n",
       "\n",
       "                               web-of-science-index doc-delivery-number  \\\n",
       "0    Science Citation Index Expanded (SCI-EXPANDED)               YF944   \n",
       "1  Arts &amp; Humanities Citation Index (A&amp;HCI)               611ZW   \n",
       "2    Science Citation Index Expanded (SCI-EXPANDED)               436TU   \n",
       "3    Science Citation Index Expanded (SCI-EXPANDED)               157HP   \n",
       "4            Emerging Sources Citation Index (ESCI)               PH8JS   \n",
       "\n",
       "            journal-iso usage-count-since-2013 usage-count-last-180-days  \\\n",
       "0         Mineral. Mag.                      3                         0   \n",
       "1  Hist. Polit. Thought                      1                         0   \n",
       "2          Aquat. Ecol.                     31                         0   \n",
       "3       Vet. Parasitol.                     29                         3   \n",
       "4            Data Brief                      4                         1   \n",
       "\n",
       "  times-cited number-of-cited-references  \\\n",
       "0          34                         41   \n",
       "1          14                         53   \n",
       "2          25                         45   \n",
       "3         110                         41   \n",
       "4           0                          6   \n",
       "\n",
       "                                       orcid-numbers  ... czech hungary italy  \\\n",
       "0                                                NaN  ...     0       0     1   \n",
       "1                                                NaN  ...     0       0     1   \n",
       "2              Fanelli, Giuliano/0000-0002-3143-1212  ...     0       0     1   \n",
       "3  Vadlejch, Jaroslav/0000-0002-5958-7606\\nPekar,...  ...     1       0     0   \n",
       "4  de Almeida, Ana Maria/0000-0001-9519-4634\\nNun...  ...     0       0     0   \n",
       "\n",
       "  lisbon portugal prague romania rome vatican    dt_year  \n",
       "0      0        0      0       0    1       0 1997-01-01  \n",
       "1      0        0      0       0    1       0 2010-01-01  \n",
       "2      0        0      0       0    1       0 2009-01-01  \n",
       "3      0        0      1       0    0       0 2007-01-01  \n",
       "4      1        1      0       0    0       0 2020-01-01  \n",
       "\n",
       "[5 rows x 62 columns]"
      ]
     },
     "execution_count": 13,
     "metadata": {},
     "output_type": "execute_result"
    }
   ],
   "source": [
    "df.head()"
   ]
  },
  {
   "cell_type": "markdown",
   "id": "5421f6b8",
   "metadata": {},
   "source": [
    "### Journal Filter\n",
    "\n",
    "For the orginial work the Journal filter was based on the ranking of a certain journal. In this explanary application we use the number of papers from the dataset that where published in a journal. \n",
    "Scenario 2 filters for the top 100 journals with ragards to the number of papers from the dataset and scenario 3 for the top 50."
   ]
  },
  {
   "cell_type": "code",
   "execution_count": 14,
   "id": "06b0272c",
   "metadata": {
    "ExecuteTime": {
     "end_time": "2022-07-26T08:44:30.066436Z",
     "start_time": "2022-07-26T08:44:29.858382Z"
    }
   },
   "outputs": [],
   "source": [
    "journals_scenario_2 = [i[0] for i in Counter(df.journal).most_common()][:100]\n",
    "journals_scenario_3 = [i[0] for i in Counter(df.journal).most_common()][:50]"
   ]
  },
  {
   "cell_type": "code",
   "execution_count": 15,
   "id": "51ce7352",
   "metadata": {
    "ExecuteTime": {
     "end_time": "2022-07-26T08:44:30.249962Z",
     "start_time": "2022-07-26T08:44:30.068560Z"
    }
   },
   "outputs": [],
   "source": [
    "df[\"journal\"] = df[\"journal\"].str.upper()"
   ]
  },
  {
   "cell_type": "code",
   "execution_count": 16,
   "id": "9d0b505e",
   "metadata": {
    "ExecuteTime": {
     "end_time": "2022-07-26T08:44:30.990010Z",
     "start_time": "2022-07-26T08:44:30.249962Z"
    }
   },
   "outputs": [
    {
     "name": "stdout",
     "output_type": "stream",
     "text": [
      "257712 42297 27608\n"
     ]
    }
   ],
   "source": [
    "df_scenario2 = df[df[\"journal\"].isin(journals_scenario_2)]\n",
    "df_scenario3 = df[df[\"journal\"].isin(journals_scenario_3)]\n",
    "\n",
    "print(len(df),len(df_scenario2),len(df_scenario3))"
   ]
  },
  {
   "cell_type": "markdown",
   "id": "75566a08",
   "metadata": {},
   "source": [
    "#### export data for dashapp\n",
    "\n",
    "Different versions/amounts depending on the format of deployment."
   ]
  },
  {
   "cell_type": "code",
   "execution_count": 17,
   "id": "d95751d0",
   "metadata": {
    "ExecuteTime": {
     "end_time": "2022-07-26T08:44:31.804550Z",
     "start_time": "2022-07-26T08:44:30.991410Z"
    }
   },
   "outputs": [],
   "source": [
    "df_dash_1 = df.drop(columns=['da', 'oa', 'unique-id', 'web-of-science-index', 'doc-delivery-number',\n",
    "       'journal-iso', 'usage-count-since-2013', 'usage-count-last-180-days', 'number-of-cited-references', 'funding-text',\n",
    "       'funding-acknowledgement', 'orcid-numbers', 'researcherid-numbers',\n",
    "       'author-email', 'web-of-science-categories', 'research-areas',\n",
    "       'keywords-plus', 'keywords', 'eissn', 'issn', 'doi', 'affiliation',\n",
    "       'language', 'type', 'address', 'publisher', 'abstract', 'month',\n",
    "       'pages', 'number', 'volume', 'year',\n",
    "       'ENTRYTYPE', 'ID', 'article-number', 'kw_cat', 'earlyaccessdate',\n",
    "       'esi-hot-paper', 'esi-highly-cited-paper','series','booktitle','note','organization','isbn','editor','book-group-author'])\n",
    "\n",
    "df_dash_2 = df_dash_1[df_dash_1[\"journal\"].isin(journals_scenario_2)]\n",
    "df_dash_3 = df_dash_1[df_dash_1[\"journal\"].isin(journals_scenario_3)]\n",
    "\n",
    "with open('data_dash_1.pickle', 'wb') as f:\n",
    "    pickle.dump(df_dash_1, f, protocol=pickle.HIGHEST_PROTOCOL)\n",
    "with open('data_dash_2.pickle', 'wb') as f:\n",
    "    pickle.dump(df_dash_2, f, protocol=pickle.HIGHEST_PROTOCOL)\n",
    "with open('data_dash_3.pickle', 'wb') as f:\n",
    "    pickle.dump(df_dash_3, f, protocol=pickle.HIGHEST_PROTOCOL) "
   ]
  },
  {
   "cell_type": "markdown",
   "id": "9dd866ab",
   "metadata": {},
   "source": [
    "### Prepare Data Function"
   ]
  },
  {
   "cell_type": "code",
   "execution_count": 18,
   "id": "8a19ad1c",
   "metadata": {
    "ExecuteTime": {
     "end_time": "2022-07-26T08:44:31.820194Z",
     "start_time": "2022-07-26T08:44:31.804550Z"
    }
   },
   "outputs": [],
   "source": [
    "# to change scenario replace df_scenario3 by \n",
    "# df_scenario2 or df_scenario1\n",
    "\n",
    "def scenario_data(scenario):\n",
    "    if scenario == 1:\n",
    "        df_scenario = df.copy()\n",
    "    elif scenario == 2:\n",
    "        df_scenario = df_scenario2.copy()\n",
    "    elif scenario == 3:\n",
    "        df_scenario = df_scenario3.copy()\n",
    "    else:\n",
    "        return print(\"No valid scenario.\")\n",
    "\n",
    "    \n",
    "    # sum up dummy vectors and drop the keywords occuring zero times\n",
    "\n",
    "    occurence = df_scenario.iloc[:,50:-1]\n",
    "    vec_drop = list(occurence.sum(axis=0) > 0)\n",
    "\n",
    "    final_dummies = occurence.loc[:,vec_drop]\n",
    "\n",
    "    # calc cooccurence matrix\n",
    "    #diagonals become 0 - we want to ignore the cells for the same keywords\n",
    "    df_cooc = final_dummies.T.dot(final_dummies)\n",
    "    np.fill_diagonal(df_cooc.values,0)\n",
    "\n",
    "    # get correlation based on that\n",
    "    df_corr = df_cooc.corr(method=\"pearson\")\n",
    "    \n",
    "    return df_cooc,df_corr\n",
    "\n"
   ]
  },
  {
   "cell_type": "markdown",
   "id": "599ec551",
   "metadata": {},
   "source": [
    "### Choose Scenario"
   ]
  },
  {
   "cell_type": "code",
   "execution_count": 19,
   "id": "4125d69d",
   "metadata": {
    "ExecuteTime": {
     "end_time": "2022-07-26T08:44:31.941230Z",
     "start_time": "2022-07-26T08:44:31.823277Z"
    }
   },
   "outputs": [],
   "source": [
    "s = 3\n",
    "df_cooc,df_corr = scenario_data(s)\n",
    "\n",
    "## save/export cooc and corr Matrix/df\n",
    "\n",
    "with open(f\"results/scenario_{s}/df_cooc.pickle\",\"wb\") as f:\n",
    "    pickle.dump(df_cooc,f)\n",
    "    \n",
    "\n",
    "with open(f\"results/scenario_{s}/df_corr.pickle\",\"wb\") as f:\n",
    "    pickle.dump(df_corr,f)"
   ]
  },
  {
   "cell_type": "code",
   "execution_count": 20,
   "id": "bda989a6",
   "metadata": {
    "ExecuteTime": {
     "end_time": "2022-07-26T08:44:31.985242Z",
     "start_time": "2022-07-26T08:44:31.945233Z"
    }
   },
   "outputs": [
    {
     "data": {
      "text/html": [
       "<div>\n",
       "<style scoped>\n",
       "    .dataframe tbody tr th:only-of-type {\n",
       "        vertical-align: middle;\n",
       "    }\n",
       "\n",
       "    .dataframe tbody tr th {\n",
       "        vertical-align: top;\n",
       "    }\n",
       "\n",
       "    .dataframe thead th {\n",
       "        text-align: right;\n",
       "    }\n",
       "</style>\n",
       "<table border=\"1\" class=\"dataframe\">\n",
       "  <thead>\n",
       "    <tr style=\"text-align: right;\">\n",
       "      <th></th>\n",
       "      <th>bucharest</th>\n",
       "      <th>budapest</th>\n",
       "      <th>czech</th>\n",
       "      <th>hungary</th>\n",
       "      <th>italy</th>\n",
       "      <th>lisbon</th>\n",
       "      <th>portugal</th>\n",
       "      <th>prague</th>\n",
       "      <th>romania</th>\n",
       "      <th>rome</th>\n",
       "      <th>vatican</th>\n",
       "    </tr>\n",
       "  </thead>\n",
       "  <tbody>\n",
       "    <tr>\n",
       "      <th>bucharest</th>\n",
       "      <td>1.000000</td>\n",
       "      <td>-0.005345</td>\n",
       "      <td>0.184158</td>\n",
       "      <td>0.640658</td>\n",
       "      <td>0.115723</td>\n",
       "      <td>-0.096852</td>\n",
       "      <td>-0.034835</td>\n",
       "      <td>-0.096706</td>\n",
       "      <td>-0.233835</td>\n",
       "      <td>-0.045613</td>\n",
       "      <td>-0.079433</td>\n",
       "    </tr>\n",
       "    <tr>\n",
       "      <th>budapest</th>\n",
       "      <td>-0.005345</td>\n",
       "      <td>1.000000</td>\n",
       "      <td>0.692828</td>\n",
       "      <td>-0.209470</td>\n",
       "      <td>0.065477</td>\n",
       "      <td>-0.127819</td>\n",
       "      <td>-0.066887</td>\n",
       "      <td>-0.112430</td>\n",
       "      <td>0.432139</td>\n",
       "      <td>-0.048779</td>\n",
       "      <td>-0.069810</td>\n",
       "    </tr>\n",
       "    <tr>\n",
       "      <th>czech</th>\n",
       "      <td>0.184158</td>\n",
       "      <td>0.692828</td>\n",
       "      <td>1.000000</td>\n",
       "      <td>-0.013542</td>\n",
       "      <td>-0.115414</td>\n",
       "      <td>-0.081884</td>\n",
       "      <td>0.064196</td>\n",
       "      <td>-0.227697</td>\n",
       "      <td>0.200925</td>\n",
       "      <td>0.317783</td>\n",
       "      <td>0.296826</td>\n",
       "    </tr>\n",
       "    <tr>\n",
       "      <th>hungary</th>\n",
       "      <td>0.640658</td>\n",
       "      <td>-0.209470</td>\n",
       "      <td>-0.013542</td>\n",
       "      <td>1.000000</td>\n",
       "      <td>-0.085599</td>\n",
       "      <td>-0.124042</td>\n",
       "      <td>0.041449</td>\n",
       "      <td>0.378626</td>\n",
       "      <td>-0.218475</td>\n",
       "      <td>0.277100</td>\n",
       "      <td>0.258234</td>\n",
       "    </tr>\n",
       "    <tr>\n",
       "      <th>italy</th>\n",
       "      <td>0.115723</td>\n",
       "      <td>0.065477</td>\n",
       "      <td>-0.115414</td>\n",
       "      <td>-0.085599</td>\n",
       "      <td>1.000000</td>\n",
       "      <td>0.247807</td>\n",
       "      <td>-0.298199</td>\n",
       "      <td>-0.039640</td>\n",
       "      <td>-0.182838</td>\n",
       "      <td>-0.220065</td>\n",
       "      <td>-0.216146</td>\n",
       "    </tr>\n",
       "    <tr>\n",
       "      <th>lisbon</th>\n",
       "      <td>-0.096852</td>\n",
       "      <td>-0.127819</td>\n",
       "      <td>-0.081884</td>\n",
       "      <td>-0.124042</td>\n",
       "      <td>0.247807</td>\n",
       "      <td>1.000000</td>\n",
       "      <td>-0.188232</td>\n",
       "      <td>-0.122350</td>\n",
       "      <td>-0.110340</td>\n",
       "      <td>-0.091857</td>\n",
       "      <td>-0.088651</td>\n",
       "    </tr>\n",
       "    <tr>\n",
       "      <th>portugal</th>\n",
       "      <td>-0.034835</td>\n",
       "      <td>-0.066887</td>\n",
       "      <td>0.064196</td>\n",
       "      <td>0.041449</td>\n",
       "      <td>-0.298199</td>\n",
       "      <td>-0.188232</td>\n",
       "      <td>1.000000</td>\n",
       "      <td>-0.049522</td>\n",
       "      <td>-0.019878</td>\n",
       "      <td>0.584480</td>\n",
       "      <td>0.583351</td>\n",
       "    </tr>\n",
       "    <tr>\n",
       "      <th>prague</th>\n",
       "      <td>-0.096706</td>\n",
       "      <td>-0.112430</td>\n",
       "      <td>-0.227697</td>\n",
       "      <td>0.378626</td>\n",
       "      <td>-0.039640</td>\n",
       "      <td>-0.122350</td>\n",
       "      <td>-0.049522</td>\n",
       "      <td>1.000000</td>\n",
       "      <td>-0.030603</td>\n",
       "      <td>-0.043627</td>\n",
       "      <td>-0.032820</td>\n",
       "    </tr>\n",
       "    <tr>\n",
       "      <th>romania</th>\n",
       "      <td>-0.233835</td>\n",
       "      <td>0.432139</td>\n",
       "      <td>0.200925</td>\n",
       "      <td>-0.218475</td>\n",
       "      <td>-0.182838</td>\n",
       "      <td>-0.110340</td>\n",
       "      <td>-0.019878</td>\n",
       "      <td>-0.030603</td>\n",
       "      <td>1.000000</td>\n",
       "      <td>0.234041</td>\n",
       "      <td>0.221235</td>\n",
       "    </tr>\n",
       "    <tr>\n",
       "      <th>rome</th>\n",
       "      <td>-0.045613</td>\n",
       "      <td>-0.048779</td>\n",
       "      <td>0.317783</td>\n",
       "      <td>0.277100</td>\n",
       "      <td>-0.220065</td>\n",
       "      <td>-0.091857</td>\n",
       "      <td>0.584480</td>\n",
       "      <td>-0.043627</td>\n",
       "      <td>0.234041</td>\n",
       "      <td>1.000000</td>\n",
       "      <td>0.999024</td>\n",
       "    </tr>\n",
       "    <tr>\n",
       "      <th>vatican</th>\n",
       "      <td>-0.079433</td>\n",
       "      <td>-0.069810</td>\n",
       "      <td>0.296826</td>\n",
       "      <td>0.258234</td>\n",
       "      <td>-0.216146</td>\n",
       "      <td>-0.088651</td>\n",
       "      <td>0.583351</td>\n",
       "      <td>-0.032820</td>\n",
       "      <td>0.221235</td>\n",
       "      <td>0.999024</td>\n",
       "      <td>1.000000</td>\n",
       "    </tr>\n",
       "  </tbody>\n",
       "</table>\n",
       "</div>"
      ],
      "text/plain": [
       "           bucharest  budapest     czech   hungary     italy    lisbon  \\\n",
       "bucharest   1.000000 -0.005345  0.184158  0.640658  0.115723 -0.096852   \n",
       "budapest   -0.005345  1.000000  0.692828 -0.209470  0.065477 -0.127819   \n",
       "czech       0.184158  0.692828  1.000000 -0.013542 -0.115414 -0.081884   \n",
       "hungary     0.640658 -0.209470 -0.013542  1.000000 -0.085599 -0.124042   \n",
       "italy       0.115723  0.065477 -0.115414 -0.085599  1.000000  0.247807   \n",
       "lisbon     -0.096852 -0.127819 -0.081884 -0.124042  0.247807  1.000000   \n",
       "portugal   -0.034835 -0.066887  0.064196  0.041449 -0.298199 -0.188232   \n",
       "prague     -0.096706 -0.112430 -0.227697  0.378626 -0.039640 -0.122350   \n",
       "romania    -0.233835  0.432139  0.200925 -0.218475 -0.182838 -0.110340   \n",
       "rome       -0.045613 -0.048779  0.317783  0.277100 -0.220065 -0.091857   \n",
       "vatican    -0.079433 -0.069810  0.296826  0.258234 -0.216146 -0.088651   \n",
       "\n",
       "           portugal    prague   romania      rome   vatican  \n",
       "bucharest -0.034835 -0.096706 -0.233835 -0.045613 -0.079433  \n",
       "budapest  -0.066887 -0.112430  0.432139 -0.048779 -0.069810  \n",
       "czech      0.064196 -0.227697  0.200925  0.317783  0.296826  \n",
       "hungary    0.041449  0.378626 -0.218475  0.277100  0.258234  \n",
       "italy     -0.298199 -0.039640 -0.182838 -0.220065 -0.216146  \n",
       "lisbon    -0.188232 -0.122350 -0.110340 -0.091857 -0.088651  \n",
       "portugal   1.000000 -0.049522 -0.019878  0.584480  0.583351  \n",
       "prague    -0.049522  1.000000 -0.030603 -0.043627 -0.032820  \n",
       "romania   -0.019878 -0.030603  1.000000  0.234041  0.221235  \n",
       "rome       0.584480 -0.043627  0.234041  1.000000  0.999024  \n",
       "vatican    0.583351 -0.032820  0.221235  0.999024  1.000000  "
      ]
     },
     "execution_count": 20,
     "metadata": {},
     "output_type": "execute_result"
    }
   ],
   "source": [
    "df_corr"
   ]
  },
  {
   "cell_type": "markdown",
   "id": "ca77748a",
   "metadata": {},
   "source": [
    "### Factor Analysis"
   ]
  },
  {
   "cell_type": "markdown",
   "id": "34848724",
   "metadata": {},
   "source": [
    "#### Tests of Adequacy"
   ]
  },
  {
   "cell_type": "markdown",
   "id": "d7605d4b",
   "metadata": {},
   "source": [
    "##### Bartlett"
   ]
  },
  {
   "cell_type": "code",
   "execution_count": 21,
   "id": "db0860d4",
   "metadata": {
    "ExecuteTime": {
     "end_time": "2022-07-26T08:44:33.429792Z",
     "start_time": "2022-07-26T08:44:31.985242Z"
    }
   },
   "outputs": [
    {
     "data": {
      "text/plain": [
       "(226.28775202777857, 4.6040653487704365e-23)"
      ]
     },
     "execution_count": 21,
     "metadata": {},
     "output_type": "execute_result"
    }
   ],
   "source": [
    "from factor_analyzer.factor_analyzer import calculate_bartlett_sphericity\n",
    "chi_square_value,p_value=calculate_bartlett_sphericity(df_cooc)\n",
    "chi_square_value, p_value"
   ]
  },
  {
   "cell_type": "markdown",
   "id": "830934f9",
   "metadata": {},
   "source": [
    "Significant p value. Data is suitable for PCA.\n",
    "The Correlation Matrix is very much different from the identity matrix."
   ]
  },
  {
   "cell_type": "markdown",
   "id": "99cafd47",
   "metadata": {},
   "source": [
    "##### Kaiser-Meyer-Olkin"
   ]
  },
  {
   "cell_type": "code",
   "execution_count": 22,
   "id": "d367fc3d",
   "metadata": {
    "ExecuteTime": {
     "end_time": "2022-07-26T08:44:33.477808Z",
     "start_time": "2022-07-26T08:44:33.429792Z"
    }
   },
   "outputs": [
    {
     "name": "stdout",
     "output_type": "stream",
     "text": [
      "0.19866415265071177\n"
     ]
    },
    {
     "name": "stderr",
     "output_type": "stream",
     "text": [
      "C:\\Users\\Lion\\anaconda3\\envs\\env_time\\lib\\site-packages\\factor_analyzer\\utils.py:248: UserWarning: The inverse of the variance-covariance matrix was calculated using the Moore-Penrose generalized matrix inversion, due to its determinant being at or very close to zero.\n",
      "  warnings.warn('The inverse of the variance-covariance matrix '\n"
     ]
    }
   ],
   "source": [
    "from factor_analyzer.factor_analyzer import calculate_kmo\n",
    "kmo_vars,kmo_model = calculate_kmo(df_cooc)\n",
    "print(kmo_model)"
   ]
  },
  {
   "cell_type": "markdown",
   "id": "72f9544a",
   "metadata": {},
   "source": [
    "Very bad. Factor analysis not feasable. \n",
    "KMO should be > 0.6"
   ]
  },
  {
   "cell_type": "markdown",
   "id": "26b351df",
   "metadata": {},
   "source": [
    "#### Number of factors\n",
    "\n",
    "Plotting two different criteria:\n",
    "1. Screeplot /elbow criterion\n",
    "    - here we look for the moment where the steepness becomes flat (factor 4)\n",
    "2. Kaiser criterion\n",
    "    - here we take all factors that have an eigenvalue of >1 (factor 8 included)\n",
    "      \n",
    "\n",
    "\n",
    "\n",
    "DiStefano, Kaiser's Criterion:\n",
    "Kaiser’s criterion for factor extraction is accurate when there are less than 30\n",
    "variables with communalities after extraction higher than 0.7 or more than 250\n",
    "variables with communalities after extraction higher than 0.6. > no source given in DiStefano"
   ]
  },
  {
   "cell_type": "code",
   "execution_count": 23,
   "id": "b120848c",
   "metadata": {
    "ExecuteTime": {
     "end_time": "2022-07-26T08:44:33.837610Z",
     "start_time": "2022-07-26T08:44:33.477808Z"
    }
   },
   "outputs": [
    {
     "data": {
      "text/plain": [
       "([<matplotlib.axis.YTick at 0x2b496188190>], [Text(0, 0, '')])"
      ]
     },
     "execution_count": 23,
     "metadata": {},
     "output_type": "execute_result"
    },
    {
     "data": {
      "image/png": "[encoded data removed]",
      "text/plain": [
       "<Figure size 432x288 with 1 Axes>"
      ]
     },
     "metadata": {
      "needs_background": "light"
     },
     "output_type": "display_data"
    }
   ],
   "source": [
    "from factor_analyzer import FactorAnalyzer\n",
    "import matplotlib.pyplot as plt\n",
    "\n",
    "\n",
    "dataframe = df_corr\n",
    "\n",
    "fa = FactorAnalyzer(rotation = 'varimax',impute = \"drop\",n_factors=dataframe.shape[1],\n",
    "                   is_corr_matrix=True)\n",
    "fa.fit(dataframe)\n",
    "ev,_ = fa.get_eigenvalues()\n",
    "plt.scatter(range(1,dataframe.shape[1]+1),ev)\n",
    "plt.plot(range(1,dataframe.shape[1]+1),ev)\n",
    "plt.title('Scree Plot')\n",
    "plt.xlabel('Factors')\n",
    "plt.ylabel('Eigen Value')\n",
    "plt.grid()\n",
    "plt.yticks([1])\n",
    "#> 8 Factors, when ever eigen value is over 1\n"
   ]
  },
  {
   "cell_type": "markdown",
   "id": "f547ea99",
   "metadata": {},
   "source": [
    "#### Results factor analysis with 5 factors"
   ]
  },
  {
   "cell_type": "code",
   "execution_count": 24,
   "id": "0894c428",
   "metadata": {
    "ExecuteTime": {
     "end_time": "2022-07-26T08:44:33.905611Z",
     "start_time": "2022-07-26T08:44:33.841595Z"
    }
   },
   "outputs": [
    {
     "data": {
      "text/plain": [
       "FactorAnalyzer(n_factors=5, rotation='varimax', rotation_kwargs={})"
      ]
     },
     "execution_count": 24,
     "metadata": {},
     "output_type": "execute_result"
    }
   ],
   "source": [
    "fa = FactorAnalyzer(n_factors=5,rotation='varimax')\n",
    "fa.fit(dataframe)"
   ]
  },
  {
   "cell_type": "markdown",
   "id": "4a91327f",
   "metadata": {},
   "source": [
    "##### Communalities\n"
   ]
  },
  {
   "cell_type": "code",
   "execution_count": 25,
   "id": "aa8ccf3d",
   "metadata": {
    "ExecuteTime": {
     "end_time": "2022-07-26T08:44:40.069818Z",
     "start_time": "2022-07-26T08:44:40.057425Z"
    }
   },
   "outputs": [
    {
     "name": "stdout",
     "output_type": "stream",
     "text": [
      "           Communalities\n",
      "bucharest       0.995010\n",
      "budapest        1.004408\n",
      "czech           0.852972\n",
      "hungary         1.003945\n",
      "italy           0.696877\n",
      "lisbon          0.998392\n",
      "portugal        0.833071\n",
      "prague          0.870506\n",
      "romania         0.673968\n",
      "rome            0.973144\n",
      "vatican         0.966837\n"
     ]
    }
   ],
   "source": [
    "communalities = pd.DataFrame(fa.get_communalities(),index=dataframe.columns,columns=['Communalities'])\n",
    "print(communalities)"
   ]
  },
  {
   "cell_type": "markdown",
   "id": "454dab3d",
   "metadata": {},
   "source": [
    "##### Loadings"
   ]
  },
  {
   "cell_type": "code",
   "execution_count": 26,
   "id": "eefd4909",
   "metadata": {
    "ExecuteTime": {
     "end_time": "2022-07-26T08:44:42.211610Z",
     "start_time": "2022-07-26T08:44:42.182013Z"
    }
   },
   "outputs": [
    {
     "data": {
      "text/html": [
       "<div>\n",
       "<style scoped>\n",
       "    .dataframe tbody tr th:only-of-type {\n",
       "        vertical-align: middle;\n",
       "    }\n",
       "\n",
       "    .dataframe tbody tr th {\n",
       "        vertical-align: top;\n",
       "    }\n",
       "\n",
       "    .dataframe thead th {\n",
       "        text-align: right;\n",
       "    }\n",
       "</style>\n",
       "<table border=\"1\" class=\"dataframe\">\n",
       "  <thead>\n",
       "    <tr style=\"text-align: right;\">\n",
       "      <th></th>\n",
       "      <th>0</th>\n",
       "      <th>1</th>\n",
       "      <th>2</th>\n",
       "      <th>3</th>\n",
       "      <th>4</th>\n",
       "      <th>5</th>\n",
       "      <th>6</th>\n",
       "      <th>7</th>\n",
       "      <th>8</th>\n",
       "    </tr>\n",
       "  </thead>\n",
       "  <tbody>\n",
       "    <tr>\n",
       "      <th>bucharest</th>\n",
       "      <td>-0.238007</td>\n",
       "      <td>0.928073</td>\n",
       "      <td>0.013701</td>\n",
       "      <td>0.169990</td>\n",
       "      <td>0.132196</td>\n",
       "      <td>-0.170525</td>\n",
       "      <td>-0.000702</td>\n",
       "      <td>-0.047329</td>\n",
       "      <td>0.0</td>\n",
       "    </tr>\n",
       "    <tr>\n",
       "      <th>budapest</th>\n",
       "      <td>-0.294331</td>\n",
       "      <td>-0.302363</td>\n",
       "      <td>0.827121</td>\n",
       "      <td>0.170644</td>\n",
       "      <td>0.214710</td>\n",
       "      <td>0.215499</td>\n",
       "      <td>0.032844</td>\n",
       "      <td>0.102195</td>\n",
       "      <td>0.0</td>\n",
       "    </tr>\n",
       "    <tr>\n",
       "      <th>czech</th>\n",
       "      <td>0.187435</td>\n",
       "      <td>-0.007835</td>\n",
       "      <td>0.940153</td>\n",
       "      <td>0.232770</td>\n",
       "      <td>0.077998</td>\n",
       "      <td>0.077662</td>\n",
       "      <td>0.075565</td>\n",
       "      <td>-0.067957</td>\n",
       "      <td>0.0</td>\n",
       "    </tr>\n",
       "    <tr>\n",
       "      <th>hungary</th>\n",
       "      <td>0.184503</td>\n",
       "      <td>0.865684</td>\n",
       "      <td>-0.249612</td>\n",
       "      <td>-0.358783</td>\n",
       "      <td>0.088048</td>\n",
       "      <td>-0.089839</td>\n",
       "      <td>0.049847</td>\n",
       "      <td>0.052771</td>\n",
       "      <td>0.0</td>\n",
       "    </tr>\n",
       "    <tr>\n",
       "      <th>italy</th>\n",
       "      <td>-0.600028</td>\n",
       "      <td>-0.059250</td>\n",
       "      <td>-0.177449</td>\n",
       "      <td>0.180623</td>\n",
       "      <td>-0.138158</td>\n",
       "      <td>-0.220106</td>\n",
       "      <td>-0.707424</td>\n",
       "      <td>0.002194</td>\n",
       "      <td>0.0</td>\n",
       "    </tr>\n",
       "  </tbody>\n",
       "</table>\n",
       "</div>"
      ],
      "text/plain": [
       "                  0         1         2         3         4         5  \\\n",
       "bucharest -0.238007  0.928073  0.013701  0.169990  0.132196 -0.170525   \n",
       "budapest  -0.294331 -0.302363  0.827121  0.170644  0.214710  0.215499   \n",
       "czech      0.187435 -0.007835  0.940153  0.232770  0.077998  0.077662   \n",
       "hungary    0.184503  0.865684 -0.249612 -0.358783  0.088048 -0.089839   \n",
       "italy     -0.600028 -0.059250 -0.177449  0.180623 -0.138158 -0.220106   \n",
       "\n",
       "                  6         7    8  \n",
       "bucharest -0.000702 -0.047329  0.0  \n",
       "budapest   0.032844  0.102195  0.0  \n",
       "czech      0.075565 -0.067957  0.0  \n",
       "hungary    0.049847  0.052771  0.0  \n",
       "italy     -0.707424  0.002194  0.0  "
      ]
     },
     "execution_count": 26,
     "metadata": {},
     "output_type": "execute_result"
    }
   ],
   "source": [
    "fa = FactorAnalyzer(n_factors=9,rotation='varimax')\n",
    "fa.fit(dataframe)\n",
    "loadings = pd.DataFrame(fa.loadings_,index=dataframe.columns)\n",
    "loadings.head()"
   ]
  },
  {
   "cell_type": "markdown",
   "id": "9a9eb80c",
   "metadata": {},
   "source": [
    "##### Variance"
   ]
  },
  {
   "cell_type": "code",
   "execution_count": 27,
   "id": "78c5d698",
   "metadata": {
    "ExecuteTime": {
     "end_time": "2022-07-26T08:44:43.706058Z",
     "start_time": "2022-07-26T08:44:43.686057Z"
    }
   },
   "outputs": [
    {
     "data": {
      "text/html": [
       "<div>\n",
       "<style scoped>\n",
       "    .dataframe tbody tr th:only-of-type {\n",
       "        vertical-align: middle;\n",
       "    }\n",
       "\n",
       "    .dataframe tbody tr th {\n",
       "        vertical-align: top;\n",
       "    }\n",
       "\n",
       "    .dataframe thead th {\n",
       "        text-align: right;\n",
       "    }\n",
       "</style>\n",
       "<table border=\"1\" class=\"dataframe\">\n",
       "  <thead>\n",
       "    <tr style=\"text-align: right;\">\n",
       "      <th></th>\n",
       "      <th>0</th>\n",
       "      <th>1</th>\n",
       "      <th>2</th>\n",
       "      <th>3</th>\n",
       "      <th>4</th>\n",
       "      <th>5</th>\n",
       "      <th>6</th>\n",
       "      <th>7</th>\n",
       "      <th>8</th>\n",
       "    </tr>\n",
       "  </thead>\n",
       "  <tbody>\n",
       "    <tr>\n",
       "      <th>Variance</th>\n",
       "      <td>3.347611</td>\n",
       "      <td>2.005833</td>\n",
       "      <td>1.964285</td>\n",
       "      <td>1.155779</td>\n",
       "      <td>0.987646</td>\n",
       "      <td>0.811729</td>\n",
       "      <td>0.661182</td>\n",
       "      <td>0.023133</td>\n",
       "      <td>0.000000</td>\n",
       "    </tr>\n",
       "    <tr>\n",
       "      <th>Proportional Var</th>\n",
       "      <td>0.304328</td>\n",
       "      <td>0.182348</td>\n",
       "      <td>0.178571</td>\n",
       "      <td>0.105071</td>\n",
       "      <td>0.089786</td>\n",
       "      <td>0.073794</td>\n",
       "      <td>0.060107</td>\n",
       "      <td>0.002103</td>\n",
       "      <td>0.000000</td>\n",
       "    </tr>\n",
       "    <tr>\n",
       "      <th>Cumulative Var</th>\n",
       "      <td>0.304328</td>\n",
       "      <td>0.486677</td>\n",
       "      <td>0.665248</td>\n",
       "      <td>0.770319</td>\n",
       "      <td>0.860105</td>\n",
       "      <td>0.933898</td>\n",
       "      <td>0.994006</td>\n",
       "      <td>0.996109</td>\n",
       "      <td>0.996109</td>\n",
       "    </tr>\n",
       "  </tbody>\n",
       "</table>\n",
       "</div>"
      ],
      "text/plain": [
       "                         0         1         2         3         4         5  \\\n",
       "Variance          3.347611  2.005833  1.964285  1.155779  0.987646  0.811729   \n",
       "Proportional Var  0.304328  0.182348  0.178571  0.105071  0.089786  0.073794   \n",
       "Cumulative Var    0.304328  0.486677  0.665248  0.770319  0.860105  0.933898   \n",
       "\n",
       "                         6         7         8  \n",
       "Variance          0.661182  0.023133  0.000000  \n",
       "Proportional Var  0.060107  0.002103  0.000000  \n",
       "Cumulative Var    0.994006  0.996109  0.996109  "
      ]
     },
     "execution_count": 27,
     "metadata": {},
     "output_type": "execute_result"
    }
   ],
   "source": [
    "variance = pd.DataFrame(fa.get_factor_variance(),index=['Variance','Proportional Var','Cumulative Var'])\n",
    "variance"
   ]
  },
  {
   "cell_type": "markdown",
   "id": "bc7c9bd6",
   "metadata": {},
   "source": [
    "#### Export results factor analysis"
   ]
  },
  {
   "cell_type": "code",
   "execution_count": 28,
   "id": "837c4181",
   "metadata": {
    "ExecuteTime": {
     "end_time": "2022-07-26T08:44:46.406087Z",
     "start_time": "2022-07-26T08:44:46.343195Z"
    }
   },
   "outputs": [],
   "source": [
    "# watch to change scenario\n",
    "\n",
    "communalities.to_csv(f\"results/scenario_{s}/factor_communalities.csv\")    \n",
    "loadings.to_csv(f\"results/scenario_{s}/factor_loadings.csv\")    \n",
    "variance.to_csv(f\"results/scenario_{s}/factor_variance.csv\")    "
   ]
  },
  {
   "cell_type": "markdown",
   "id": "5f7872e7",
   "metadata": {},
   "source": [
    "## MDS 3D and 2D"
   ]
  },
  {
   "cell_type": "code",
   "execution_count": 29,
   "id": "30c7c5c7",
   "metadata": {
    "ExecuteTime": {
     "end_time": "2022-07-26T08:44:48.338981Z",
     "start_time": "2022-07-26T08:44:47.827115Z"
    }
   },
   "outputs": [
    {
     "name": "stdout",
     "output_type": "stream",
     "text": [
      "0.6055806327021203\n"
     ]
    }
   ],
   "source": [
    "from sklearn.manifold import MDS\n",
    "\n",
    "M_dis = 1-df_corr\n",
    "\n",
    "embedding = MDS(n_components=3,dissimilarity='precomputed', random_state=3)\n",
    "X_transformed = embedding.fit_transform(M_dis)\n",
    "\n",
    "# stress\n",
    "\n",
    "stress = embedding.stress_\n",
    "print(stress)"
   ]
  },
  {
   "cell_type": "code",
   "execution_count": 30,
   "id": "81a68054",
   "metadata": {
    "ExecuteTime": {
     "end_time": "2022-07-26T08:44:49.943551Z",
     "start_time": "2022-07-26T08:44:49.931845Z"
    }
   },
   "outputs": [
    {
     "name": "stdout",
     "output_type": "stream",
     "text": [
      "Kruskal's Stress :\n",
      "[Poor > 0.2 > Fair > 0.1 > Good > 0.05 > Excellent > 0.025 > Perfect > 0.0]\n",
      "0.10679481777775267\n",
      "\n"
     ]
    }
   ],
   "source": [
    "stress1 = np.sqrt(stress / (0.5 * np.sum(M_dis.values**2)))\n",
    "print(\"Kruskal's Stress :\")\n",
    "print(\"[Poor > 0.2 > Fair > 0.1 > Good > 0.05 > Excellent > 0.025 > Perfect > 0.0]\")\n",
    "print(stress1)\n",
    "print(\"\")"
   ]
  },
  {
   "cell_type": "code",
   "execution_count": 31,
   "id": "f0299581",
   "metadata": {
    "ExecuteTime": {
     "end_time": "2022-07-26T08:44:51.431845Z",
     "start_time": "2022-07-26T08:44:51.419275Z"
    }
   },
   "outputs": [],
   "source": [
    "#export \n",
    "\n",
    "pd.DataFrame(X_transformed).to_csv(f\"results/scenario_{s}/mds_coordinates.csv\")"
   ]
  },
  {
   "cell_type": "markdown",
   "id": "af9f2864",
   "metadata": {},
   "source": [
    "## Cluster\n",
    "\n",
    "\n",
    "##### McCain 1990, p437\n",
    "\n",
    "- the aim is not to find a optimal cluster number but to inform the discurs\n",
    "- one simply uses the dendogram and argues from one cluster level and realtes to lower or higher levels where reasonable\n",
    "- eventually try out results with different linkag method\n",
    "\n",
    "##### Boyack & Klavans 2010\n",
    "\n",
    "- different cluster method\n",
    "\n",
    "\n",
    "#### DiStefano 2012\n",
    "\n",
    "- cluster and factor where used, coherent\n",
    "- only factor described cause it also give the factor loadings\n",
    "\n",
    "-> use as many clusters as factors"
   ]
  },
  {
   "cell_type": "code",
   "execution_count": 32,
   "id": "3e70f0a9",
   "metadata": {
    "ExecuteTime": {
     "end_time": "2022-07-26T08:44:55.850283Z",
     "start_time": "2022-07-26T08:44:53.769236Z"
    }
   },
   "outputs": [],
   "source": [
    "import pandas as pd\n",
    "from scipy.spatial.distance import squareform\n",
    "from scipy.cluster import hierarchy\n",
    "from matplotlib import pyplot as plt\n",
    "\n",
    "import pandas as pd\n",
    "import numpy as np\n",
    "import scipy\n",
    "import plotly.offline as pyo\n",
    "import plotly.figure_factory as ff\n",
    "import scipy.cluster.hierarchy as sch\n",
    "\n",
    "from scipy.spatial.distance import squareform\n",
    "from scipy.cluster.hierarchy import cut_tree\n",
    "from scipy.cluster.hierarchy import linkage\n",
    "from sklearn_extra.cluster import KMedoids"
   ]
  },
  {
   "cell_type": "markdown",
   "id": "cc12a7fc",
   "metadata": {},
   "source": [
    "### Compare AHC and KMedioids and find optimal cluster number\n",
    "\n",
    "- define corresponding function returning the clustering for different k's to be used in 3."
   ]
  },
  {
   "cell_type": "code",
   "execution_count": 33,
   "id": "da35390f",
   "metadata": {
    "ExecuteTime": {
     "end_time": "2022-07-26T08:44:56.165873Z",
     "start_time": "2022-07-26T08:44:56.150031Z"
    }
   },
   "outputs": [],
   "source": [
    "## define functions that return the clusters per keyword for both algorithms\n",
    "## input is the number of clusters k and the distance matrix\n",
    "\n",
    "def hierachy_k(dist_M,k):\n",
    "    '''\n",
    "    input: dist_M n*n with 1-pearson values, k number of clusters\n",
    "    output: cluster mapping\n",
    "    '''\n",
    "    \n",
    "    condensed_diss = squareform(dist_M)\n",
    "    linkage_M = linkage(condensed_diss, method=\"ward\",metric=\"euclidean\")\n",
    "    \n",
    "    ct = cut_tree(linkage_M,k)\n",
    "    \n",
    "    return ct\n",
    "\n",
    "\n",
    "def kmedoids(dist_M,k):\n",
    "    kmedoids = KMedoids(n_clusters=k, random_state=0, metric=\"precomputed\").fit(dist_M)\n",
    "    \n",
    "    return kmedoids.labels_"
   ]
  },
  {
   "cell_type": "code",
   "execution_count": 34,
   "id": "3ac9cf5f",
   "metadata": {
    "ExecuteTime": {
     "end_time": "2022-07-26T08:44:56.652132Z",
     "start_time": "2022-07-26T08:44:56.483452Z"
    }
   },
   "outputs": [],
   "source": [
    "from sklearn.metrics import silhouette_score\n",
    "from sklearn.metrics import adjusted_rand_score\n",
    "from sklearn.metrics import adjusted_mutual_info_score\n",
    "\n",
    "# loop through k 2 to 10 and claculated different scores\n",
    "# randscore (compares if the method decide on similar clusters)\n",
    "# mutual information score (adj) - decribees the amount of information we receives about one variable (clustering) by knowing the other\n",
    "\n",
    "# silhouette score - how well apart and distinguished are the found clusters\n",
    "\n",
    "randscores = []\n",
    "mis = []\n",
    "sil = []\n",
    "\n",
    "for i in range(2,10): #try number of cluster\n",
    "    agg = hierachy_k(M_dis,i)\n",
    "    agg = [i[0] for i in agg]\n",
    "    km = kmedoids(M_dis,i)\n",
    "\n",
    "    randscores.append((i,adjusted_rand_score(agg,km)))\n",
    "    mis.append((i,adjusted_mutual_info_score(agg,km)))\n",
    "    \n",
    "    sil_agg = silhouette_score(M_dis, labels=agg)\n",
    "    sil_km = silhouette_score(M_dis, labels=km)\n",
    "    sil_temp = [i,sil_agg,sil_km]\n",
    "    sil.append(sil_temp)"
   ]
  },
  {
   "cell_type": "code",
   "execution_count": 35,
   "id": "49ba99ee",
   "metadata": {
    "ExecuteTime": {
     "end_time": "2022-07-26T08:44:56.972455Z",
     "start_time": "2022-07-26T08:44:56.963049Z"
    }
   },
   "outputs": [],
   "source": [
    "rand_plot = pd.DataFrame(randscores, columns=[\"cluster\",\"rand\"])\n",
    "mis_plot = pd.DataFrame(mis, columns=[\"cluster\",\"mis\"])"
   ]
  },
  {
   "cell_type": "code",
   "execution_count": 36,
   "id": "37e7588a",
   "metadata": {
    "ExecuteTime": {
     "end_time": "2022-07-26T08:44:57.325924Z",
     "start_time": "2022-07-26T08:44:57.306674Z"
    }
   },
   "outputs": [],
   "source": [
    "sil_plot = pd.DataFrame(sil, columns=[\"cluster\",\"agg\",\"km\"])"
   ]
  },
  {
   "cell_type": "code",
   "execution_count": 37,
   "id": "28fa83fd",
   "metadata": {
    "ExecuteTime": {
     "end_time": "2022-07-26T08:44:59.041442Z",
     "start_time": "2022-07-26T08:44:58.131057Z"
    }
   },
   "outputs": [
    {
     "data": {
      "image/png": "[encoded data removed]",
      "text/plain": [
       "<Figure size 432x288 with 1 Axes>"
      ]
     },
     "metadata": {
      "needs_background": "light"
     },
     "output_type": "display_data"
    }
   ],
   "source": [
    "import matplotlib.pyplot as plt\n",
    "plt.plot(rand_plot[\"cluster\"],rand_plot[\"rand\"])\n",
    "plt.title(\"Rand-Scores for the clusterings between AHC and KM\")\n",
    "plt.savefig(f\"results/scenario_{s}/rand.png\")"
   ]
  },
  {
   "cell_type": "code",
   "execution_count": 38,
   "id": "e86e7f5b",
   "metadata": {
    "ExecuteTime": {
     "end_time": "2022-07-26T08:44:59.699292Z",
     "start_time": "2022-07-26T08:44:59.365821Z"
    }
   },
   "outputs": [
    {
     "data": {
      "image/png": "[encoded data removed]",
      "text/plain": [
       "<Figure size 432x288 with 1 Axes>"
      ]
     },
     "metadata": {
      "needs_background": "light"
     },
     "output_type": "display_data"
    }
   ],
   "source": [
    "plt.plot(mis_plot[\"cluster\"],mis_plot[\"mis\"])\n",
    "plt.title(\"Mutual-Information-Scores for the clusterings between AHC and KM\")\n",
    "plt.savefig(f\"results/scenario_{s}/mis.png\")"
   ]
  },
  {
   "cell_type": "code",
   "execution_count": 39,
   "id": "a5dd9731",
   "metadata": {
    "ExecuteTime": {
     "end_time": "2022-07-26T08:45:05.729022Z",
     "start_time": "2022-07-26T08:45:05.295512Z"
    }
   },
   "outputs": [
    {
     "data": {
      "image/png": "[encoded data removed]",
      "text/plain": [
       "<Figure size 432x288 with 1 Axes>"
      ]
     },
     "metadata": {
      "needs_background": "light"
     },
     "output_type": "display_data"
    }
   ],
   "source": [
    "plt.plot(sil_plot[\"cluster\"],sil_plot[\"agg\"], c=\"green\")\n",
    "plt.plot(sil_plot[\"cluster\"],sil_plot[\"km\"], c=\"orange\")\n",
    "plt.legend({\"AHC\":\"green\",\"KM\":\"orange\"})\n",
    "plt.title(\"Silhouette-scores for the clusterings of AHC and KM\")\n",
    "plt.savefig(f\"results/scenario_{s}/sil.png\")\n",
    "# https://scikit-learn.org/stable/auto_examples/cluster/plot_kmeans_silhouette_analysis.html#sphx-glr-auto-examples-cluster-plot-kmeans-silhouette-analysis-py\n",
    "# set up this viz maybe"
   ]
  },
  {
   "cell_type": "markdown",
   "id": "8bb11cdf",
   "metadata": {},
   "source": [
    "##### More indepth Silhouette score analysis\n",
    "\n",
    "Plotting not just the overall average score but per data point per cluster.\n",
    "The red line is the overall average. Ideally we would like to see a solution where for all cluster the majority of points is above the average."
   ]
  },
  {
   "cell_type": "code",
   "execution_count": 40,
   "id": "a47f048a",
   "metadata": {
    "ExecuteTime": {
     "end_time": "2022-07-26T08:45:11.404829Z",
     "start_time": "2022-07-26T08:45:08.283619Z"
    }
   },
   "outputs": [
    {
     "name": "stdout",
     "output_type": "stream",
     "text": [
      "For n_clusters = 2 The average silhouette_score is : 0.26016308874708666\n",
      "For n_clusters = 3 The average silhouette_score is : 0.35959738327485047\n",
      "For n_clusters = 4 The average silhouette_score is : 0.41376987070084126\n",
      "For n_clusters = 5 The average silhouette_score is : 0.40936345411791863\n",
      "For n_clusters = 6 The average silhouette_score is : 0.35947007242100476\n",
      "For n_clusters = 7 The average silhouette_score is : 0.2966971428069929\n",
      "For n_clusters = 8 The average silhouette_score is : 0.290527896600575\n",
      "For n_clusters = 9 The average silhouette_score is : 0.22726505375787764\n"
     ]
    },
    {
     "data": {
      "image/png": "[encoded data removed]",
      "text/plain": [
       "<Figure size 1296x504 with 1 Axes>"
      ]
     },
     "metadata": {
      "needs_background": "light"
     },
     "output_type": "display_data"
    },
    {
     "data": {
      "image/png": "[encoded data removed]",
      "text/plain": [
       "<Figure size 1296x504 with 1 Axes>"
      ]
     },
     "metadata": {
      "needs_background": "light"
     },
     "output_type": "display_data"
    },
    {
     "data": {
      "image/png": "[encoded data removed]",
      "text/plain": [
       "<Figure size 1296x504 with 1 Axes>"
      ]
     },
     "metadata": {
      "needs_background": "light"
     },
     "output_type": "display_data"
    },
    {
     "data": {
      "image/png": "[encoded data removed]",
      "text/plain": [
       "<Figure size 1296x504 with 1 Axes>"
      ]
     },
     "metadata": {
      "needs_background": "light"
     },
     "output_type": "display_data"
    },
    {
     "data": {
      "image/png": "[encoded data removed]",
      "text/plain": [
       "<Figure size 1296x504 with 1 Axes>"
      ]
     },
     "metadata": {
      "needs_background": "light"
     },
     "output_type": "display_data"
    },
    {
     "data": {
      "image/png": "[encoded data removed]",
      "text/plain": [
       "<Figure size 1296x504 with 1 Axes>"
      ]
     },
     "metadata": {
      "needs_background": "light"
     },
     "output_type": "display_data"
    },
    {
     "data": {
      "image/png": "[encoded data removed]",
      "text/plain": [
       "<Figure size 1296x504 with 1 Axes>"
      ]
     },
     "metadata": {
      "needs_background": "light"
     },
     "output_type": "display_data"
    },
    {
     "data": {
      "image/png": "[encoded data removed]",
      "text/plain": [
       "<Figure size 1296x504 with 1 Axes>"
      ]
     },
     "metadata": {
      "needs_background": "light"
     },
     "output_type": "display_data"
    }
   ],
   "source": [
    "# https://scikit-learn.org/stable/auto_examples/cluster/plot_kmeans_silhouette_analysis.html#sphx-glr-auto-examples-cluster-plot-kmeans-silhouette-analysis-py\n",
    "from sklearn.datasets import make_blobs\n",
    "from sklearn.cluster import KMeans\n",
    "from sklearn.metrics import silhouette_samples, silhouette_score\n",
    "\n",
    "import matplotlib.pyplot as plt\n",
    "import matplotlib.cm as cm\n",
    "import numpy as np\n",
    "\n",
    "# Generating the sample data from make_blobs\n",
    "# This particular setting has one distinct cluster and 3 clusters placed close\n",
    "# together.\n",
    "\n",
    "range_n_clusters = [2, 3, 4, 5, 6,7,8,9]\n",
    "\n",
    "for n_clusters in range_n_clusters:\n",
    "    # Create a subplot with 1 row and 2 columns\n",
    "    fig, (ax1) = plt.subplots(1, 1)\n",
    "    fig.set_size_inches(18, 7)\n",
    "\n",
    "    # The 1st subplot is the silhouette plot\n",
    "    # The silhouette coefficient can range from -1, 1 but in this example all\n",
    "    # lie within [-0.1, 1]\n",
    "    ax1.set_xlim([-.3, 1])\n",
    "    # The (n_clusters+1)*10 is for inserting blank space between silhouette\n",
    "    # plots of individual clusters, to demarcate them clearly.\n",
    "    ax1.set_ylim([0, len(M_dis.columns) + (n_clusters + 1) * 10])\n",
    "\n",
    "    # Initialize the clusterer with n_clusters value and a random generator\n",
    "    # seed of 10 for reproducibility.\n",
    "\n",
    "    agg = hierachy_k(M_dis,n_clusters)\n",
    "    cluster_labels = np.array([i[0] for i in agg])\n",
    "\n",
    "    # The silhouette_score gives the average value for all the samples.\n",
    "    # This gives a perspective into the density and separation of the formed\n",
    "    # clusters\n",
    "    silhouette_avg = silhouette_score(M_dis, cluster_labels)\n",
    "    print(\n",
    "        \"For n_clusters =\",\n",
    "        n_clusters,\n",
    "        \"The average silhouette_score is :\",\n",
    "        silhouette_avg,\n",
    "    )\n",
    "\n",
    "    # Compute the silhouette scores for each sample\n",
    "    sample_silhouette_values = silhouette_samples(M_dis, cluster_labels)\n",
    "\n",
    "    y_lower = 10\n",
    "    for i in range(n_clusters):\n",
    "        # Aggregate the silhouette scores for samples belonging to\n",
    "        # cluster i, and sort them\n",
    "        ith_cluster_silhouette_values = sample_silhouette_values[cluster_labels == i]\n",
    "\n",
    "        ith_cluster_silhouette_values.sort()\n",
    "\n",
    "        size_cluster_i = ith_cluster_silhouette_values.shape[0]\n",
    "        y_upper = y_lower + size_cluster_i\n",
    "\n",
    "        color = cm.nipy_spectral(float(i) / n_clusters)\n",
    "        ax1.fill_betweenx(\n",
    "            np.arange(y_lower, y_upper),\n",
    "            0,\n",
    "            ith_cluster_silhouette_values,\n",
    "            facecolor=color,\n",
    "            edgecolor=color,\n",
    "            alpha=0.7,\n",
    "        )\n",
    "\n",
    "        # Label the silhouette plots with their cluster numbers at the middle\n",
    "        ax1.text(-0.05, y_lower + 0.5 * size_cluster_i, str(i))\n",
    "\n",
    "        # Compute the new y_lower for next plot\n",
    "        y_lower = y_upper + 10  # 10 for the 0 samples\n",
    "\n",
    "    ax1.set_title(\"The silhouette plot for the various clusters.\")\n",
    "    ax1.set_xlabel(\"The silhouette coefficient values\")\n",
    "    ax1.set_ylabel(\"Cluster label\")\n",
    "\n",
    "    # The vertical line for average silhouette score of all the values\n",
    "    ax1.axvline(x=silhouette_avg, color=\"red\", linestyle=\"--\")\n",
    "\n",
    "    ax1.set_yticks([])  # Clear the yaxis labels / ticks\n",
    "    ax1.set_xticks([-0.2,-0.1, 0, 0.2, 0.4, 0.6, 0.8, 1])\n",
    "\n",
    "    plt.suptitle(\n",
    "        \"Silhouette analysis for KMeans clustering on sample data with n_clusters = %d\"\n",
    "        % n_clusters,\n",
    "        fontsize=14,\n",
    "        fontweight=\"bold\",\n",
    "    )\n",
    "    plt.savefig(f\"results/scenario_{s}/indepth_silhouette_analysis_k_{n_clusters}\")\n",
    "    \n",
    "\n",
    "plt.show()"
   ]
  }
 ],
 "metadata": {
  "hide_input": false,
  "kernelspec": {
   "display_name": "Python 3 (ipykernel)",
   "language": "python",
   "name": "python3"
  },
  "language_info": {
   "codemirror_mode": {
    "name": "ipython",
    "version": 3
   },
   "file_extension": ".py",
   "mimetype": "text/x-python",
   "name": "python",
   "nbconvert_exporter": "python",
   "pygments_lexer": "ipython3",
   "version": "3.9.7"
  },
  "toc": {
   "base_numbering": 1,
   "nav_menu": {},
   "number_sections": true,
   "sideBar": true,
   "skip_h1_title": false,
   "title_cell": "Table of Contents",
   "title_sidebar": "Contents",
   "toc_cell": false,
   "toc_position": {
    "height": "calc(100% - 180px)",
    "left": "10px",
    "top": "150px",
    "width": "165px"
   },
   "toc_section_display": true,
   "toc_window_display": true
  },
  "varInspector": {
   "cols": {
    "lenName": 16,
    "lenType": 16,
    "lenVar": 40
   },
   "kernels_config": {
    "python": {
     "delete_cmd_postfix": "",
     "delete_cmd_prefix": "del ",
     "library": "var_list.py",
     "varRefreshCmd": "print(var_dic_list())"
    },
    "r": {
     "delete_cmd_postfix": ") ",
     "delete_cmd_prefix": "rm(",
     "library": "var_list.r",
     "varRefreshCmd": "cat(var_dic_list()) "
    }
   },
   "types_to_exclude": [
    "module",
    "function",
    "builtin_function_or_method",
    "instance",
    "_Feature"
   ],
   "window_display": false
  }
 },
 "nbformat": 4,
 "nbformat_minor": 5
}
