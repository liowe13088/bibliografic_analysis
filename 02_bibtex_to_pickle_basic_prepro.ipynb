{
 "cells": [
  {
   "cell_type": "markdown",
   "id": "ea2d7e77",
   "metadata": {},
   "source": [
    "# Load bibtex files and transform into pickle file for further processing\n",
    "\n",
    "- read scraped bibtext files into dataframe/pickle table\n",
    "- some basic preprocessing"
   ]
  },
  {
   "cell_type": "markdown",
   "id": "ff1ceee7",
   "metadata": {},
   "source": [
    "## 1. Import/Export to pickle"
   ]
  },
  {
   "cell_type": "code",
   "execution_count": 29,
   "id": "7d692ca6",
   "metadata": {
    "ExecuteTime": {
     "end_time": "2022-07-25T17:09:44.824623Z",
     "start_time": "2022-07-25T17:09:44.803618Z"
    }
   },
   "outputs": [],
   "source": [
    "import bibtexparser\n",
    "import os\n",
    "import pandas as pd\n",
    "from tqdm import tqdm\n",
    "\n",
    "# get list of file names in directory where bibtex files are saved\n",
    "files = os.listdir(\"scrape_data/\")"
   ]
  },
  {
   "cell_type": "code",
   "execution_count": 30,
   "id": "3f3e4be7",
   "metadata": {
    "ExecuteTime": {
     "end_time": "2022-07-25T17:09:45.854167Z",
     "start_time": "2022-07-25T17:09:45.842884Z"
    }
   },
   "outputs": [],
   "source": [
    "import re\n",
    "\n",
    "# define function to extract keyword from file names\n",
    "def extract_kw(q):\n",
    "    m = re.search(\"[a-z]+([_&]?[a-z]+)+\",q)\n",
    "    return m.group(0)\n",
    "\n",
    "\n",
    "# extract keywords\n",
    "kw = [extract_kw(f) for f in files]"
   ]
  },
  {
   "cell_type": "code",
   "execution_count": 31,
   "id": "21ef6a3f",
   "metadata": {
    "ExecuteTime": {
     "end_time": "2022-07-25T17:09:47.459406Z",
     "start_time": "2022-07-25T17:09:47.450405Z"
    }
   },
   "outputs": [
    {
     "data": {
      "text/plain": [
       "['bucharest_01.bib',\n",
       " 'bucharest_02.bib',\n",
       " 'bucharest_11.bib',\n",
       " 'budapest_01.bib',\n",
       " 'budapest_02.bib',\n",
       " 'budapest_11.bib',\n",
       " 'budapest_21.bib',\n",
       " 'czech_01.bib',\n",
       " 'czech_02.bib',\n",
       " 'czech_101.bib',\n",
       " 'czech_11.bib',\n",
       " 'czech_111.bib',\n",
       " 'czech_12.bib',\n",
       " 'czech_121.bib',\n",
       " 'czech_131.bib',\n",
       " 'czech_141.bib',\n",
       " 'czech_151.bib',\n",
       " 'czech_161.bib',\n",
       " 'czech_21.bib',\n",
       " 'czech_22.bib',\n",
       " 'czech_31.bib',\n",
       " 'czech_32.bib',\n",
       " 'czech_41.bib',\n",
       " 'czech_42.bib',\n",
       " 'czech_51.bib',\n",
       " 'czech_52.bib',\n",
       " 'czech_61.bib',\n",
       " 'czech_71.bib',\n",
       " 'czech_81.bib',\n",
       " 'czech_91.bib',\n",
       " 'hungary_01.bib',\n",
       " 'hungary_02.bib',\n",
       " 'hungary_101.bib',\n",
       " 'hungary_11.bib',\n",
       " 'hungary_111.bib',\n",
       " 'hungary_12.bib',\n",
       " 'hungary_121.bib',\n",
       " 'hungary_131.bib',\n",
       " 'hungary_141.bib',\n",
       " 'hungary_151.bib',\n",
       " 'hungary_161.bib',\n",
       " 'hungary_171.bib',\n",
       " 'hungary_181.bib',\n",
       " 'hungary_21.bib',\n",
       " 'hungary_22.bib',\n",
       " 'hungary_31.bib',\n",
       " 'hungary_32.bib',\n",
       " 'hungary_41.bib',\n",
       " 'hungary_42.bib',\n",
       " 'hungary_51.bib',\n",
       " 'hungary_52.bib',\n",
       " 'hungary_61.bib',\n",
       " 'hungary_71.bib',\n",
       " 'hungary_81.bib',\n",
       " 'hungary_91.bib',\n",
       " 'italy_01.bib',\n",
       " 'italy_02.bib',\n",
       " 'italy_101.bib',\n",
       " 'italy_102.bib',\n",
       " 'italy_11.bib',\n",
       " 'italy_111.bib',\n",
       " 'italy_112.bib',\n",
       " 'italy_12.bib',\n",
       " 'italy_121.bib',\n",
       " 'italy_122.bib',\n",
       " 'italy_131.bib',\n",
       " 'italy_132.bib',\n",
       " 'italy_141.bib',\n",
       " 'italy_142.bib',\n",
       " 'italy_151.bib',\n",
       " 'italy_152.bib',\n",
       " 'italy_161.bib',\n",
       " 'italy_162.bib',\n",
       " 'italy_171.bib',\n",
       " 'italy_172.bib',\n",
       " 'italy_181.bib',\n",
       " 'italy_182.bib',\n",
       " 'italy_191.bib',\n",
       " 'italy_192.bib',\n",
       " 'italy_201.bib',\n",
       " 'italy_202.bib',\n",
       " 'italy_21.bib',\n",
       " 'italy_211.bib',\n",
       " 'italy_212.bib',\n",
       " 'italy_22.bib',\n",
       " 'italy_221.bib',\n",
       " 'italy_222.bib',\n",
       " 'italy_231.bib',\n",
       " 'italy_232.bib',\n",
       " 'italy_241.bib',\n",
       " 'italy_242.bib',\n",
       " 'italy_251.bib',\n",
       " 'italy_252.bib',\n",
       " 'italy_261.bib',\n",
       " 'italy_262.bib',\n",
       " 'italy_271.bib',\n",
       " 'italy_272.bib',\n",
       " 'italy_281.bib',\n",
       " 'italy_282.bib',\n",
       " 'italy_291.bib',\n",
       " 'italy_292.bib',\n",
       " 'italy_301.bib',\n",
       " 'italy_302.bib',\n",
       " 'italy_31.bib',\n",
       " 'italy_311.bib',\n",
       " 'italy_312.bib',\n",
       " 'italy_32.bib',\n",
       " 'italy_321.bib',\n",
       " 'italy_322.bib',\n",
       " 'italy_331.bib',\n",
       " 'italy_332.bib',\n",
       " 'italy_341.bib',\n",
       " 'italy_342.bib',\n",
       " 'italy_351.bib',\n",
       " 'italy_361.bib',\n",
       " 'italy_371.bib',\n",
       " 'italy_381.bib',\n",
       " 'italy_391.bib',\n",
       " 'italy_401.bib',\n",
       " 'italy_41.bib',\n",
       " 'italy_411.bib',\n",
       " 'italy_42.bib',\n",
       " 'italy_421.bib',\n",
       " 'italy_431.bib',\n",
       " 'italy_441.bib',\n",
       " 'italy_451.bib',\n",
       " 'italy_461.bib',\n",
       " 'italy_471.bib',\n",
       " 'italy_481.bib',\n",
       " 'italy_491.bib',\n",
       " 'italy_501.bib',\n",
       " 'italy_51.bib',\n",
       " 'italy_511.bib',\n",
       " 'italy_52.bib',\n",
       " 'italy_521.bib',\n",
       " 'italy_531.bib',\n",
       " 'italy_541.bib',\n",
       " 'italy_551.bib',\n",
       " 'italy_561.bib',\n",
       " 'italy_571.bib',\n",
       " 'italy_581.bib',\n",
       " 'italy_591.bib',\n",
       " 'italy_601.bib',\n",
       " 'italy_61.bib',\n",
       " 'italy_611.bib',\n",
       " 'italy_62.bib',\n",
       " 'italy_621.bib',\n",
       " 'italy_631.bib',\n",
       " 'italy_641.bib',\n",
       " 'italy_651.bib',\n",
       " 'italy_661.bib',\n",
       " 'italy_671.bib',\n",
       " 'italy_681.bib',\n",
       " 'italy_691.bib',\n",
       " 'italy_701.bib',\n",
       " 'italy_71.bib',\n",
       " 'italy_711.bib',\n",
       " 'italy_72.bib',\n",
       " 'italy_721.bib',\n",
       " 'italy_731.bib',\n",
       " 'italy_741.bib',\n",
       " 'italy_751.bib',\n",
       " 'italy_761.bib',\n",
       " 'italy_771.bib',\n",
       " 'italy_781.bib',\n",
       " 'italy_791.bib',\n",
       " 'italy_801.bib',\n",
       " 'italy_81.bib',\n",
       " 'italy_811.bib',\n",
       " 'italy_82.bib',\n",
       " 'italy_821.bib',\n",
       " 'italy_831.bib',\n",
       " 'italy_841.bib',\n",
       " 'italy_851.bib',\n",
       " 'italy_861.bib',\n",
       " 'italy_871.bib',\n",
       " 'italy_881.bib',\n",
       " 'italy_891.bib',\n",
       " 'italy_901.bib',\n",
       " 'italy_91.bib',\n",
       " 'italy_911.bib',\n",
       " 'italy_92.bib',\n",
       " 'italy_921.bib',\n",
       " 'italy_931.bib',\n",
       " 'italy_941.bib',\n",
       " 'italy_951.bib',\n",
       " 'italy_961.bib',\n",
       " 'lisbon_01.bib',\n",
       " 'lisbon_02.bib',\n",
       " 'lisbon_11.bib',\n",
       " 'lisbon_12.bib',\n",
       " 'lisbon_21.bib',\n",
       " 'lisbon_31.bib',\n",
       " 'portugal_01.bib',\n",
       " 'portugal_02.bib',\n",
       " 'portugal_101.bib',\n",
       " 'portugal_11.bib',\n",
       " 'portugal_111.bib',\n",
       " 'portugal_12.bib',\n",
       " 'portugal_121.bib',\n",
       " 'portugal_131.bib',\n",
       " 'portugal_141.bib',\n",
       " 'portugal_151.bib',\n",
       " 'portugal_161.bib',\n",
       " 'portugal_171.bib',\n",
       " 'portugal_181.bib',\n",
       " 'portugal_191.bib',\n",
       " 'portugal_201.bib',\n",
       " 'portugal_21.bib',\n",
       " 'portugal_211.bib',\n",
       " 'portugal_22.bib',\n",
       " 'portugal_221.bib',\n",
       " 'portugal_231.bib',\n",
       " 'portugal_241.bib',\n",
       " 'portugal_251.bib',\n",
       " 'portugal_31.bib',\n",
       " 'portugal_32.bib',\n",
       " 'portugal_41.bib',\n",
       " 'portugal_42.bib',\n",
       " 'portugal_51.bib',\n",
       " 'portugal_52.bib',\n",
       " 'portugal_61.bib',\n",
       " 'portugal_62.bib',\n",
       " 'portugal_71.bib',\n",
       " 'portugal_72.bib',\n",
       " 'portugal_81.bib',\n",
       " 'portugal_82.bib',\n",
       " 'portugal_91.bib',\n",
       " 'portugal_92.bib',\n",
       " 'prague_01.bib',\n",
       " 'prague_02.bib',\n",
       " 'prague_11.bib',\n",
       " 'prague_12.bib',\n",
       " 'prague_21.bib',\n",
       " 'prague_31.bib',\n",
       " 'prague_41.bib',\n",
       " 'romania_01.bib',\n",
       " 'romania_02.bib',\n",
       " 'romania_101.bib',\n",
       " 'romania_11.bib',\n",
       " 'romania_111.bib',\n",
       " 'romania_12.bib',\n",
       " 'romania_121.bib',\n",
       " 'romania_131.bib',\n",
       " 'romania_141.bib',\n",
       " 'romania_151.bib',\n",
       " 'romania_161.bib',\n",
       " 'romania_171.bib',\n",
       " 'romania_181.bib',\n",
       " 'romania_191.bib',\n",
       " 'romania_21.bib',\n",
       " 'romania_22.bib',\n",
       " 'romania_31.bib',\n",
       " 'romania_32.bib',\n",
       " 'romania_41.bib',\n",
       " 'romania_42.bib',\n",
       " 'romania_51.bib',\n",
       " 'romania_52.bib',\n",
       " 'romania_61.bib',\n",
       " 'romania_62.bib',\n",
       " 'romania_71.bib',\n",
       " 'romania_72.bib',\n",
       " 'romania_81.bib',\n",
       " 'romania_82.bib',\n",
       " 'romania_91.bib',\n",
       " 'rome_01.bib',\n",
       " 'rome_02.bib',\n",
       " 'rome_101.bib',\n",
       " 'rome_11.bib',\n",
       " 'rome_111.bib',\n",
       " 'rome_12.bib',\n",
       " 'rome_121.bib',\n",
       " 'rome_131.bib',\n",
       " 'rome_141.bib',\n",
       " 'rome_151.bib',\n",
       " 'rome_161.bib',\n",
       " 'rome_171.bib',\n",
       " 'rome_21.bib',\n",
       " 'rome_22.bib',\n",
       " 'rome_31.bib',\n",
       " 'rome_32.bib',\n",
       " 'rome_41.bib',\n",
       " 'rome_42.bib',\n",
       " 'rome_51.bib',\n",
       " 'rome_52.bib',\n",
       " 'rome_61.bib',\n",
       " 'rome_71.bib',\n",
       " 'rome_81.bib',\n",
       " 'rome_91.bib',\n",
       " 'vatican_01.bib',\n",
       " 'vatican_02.bib']"
      ]
     },
     "execution_count": 31,
     "metadata": {},
     "output_type": "execute_result"
    }
   ],
   "source": [
    "files"
   ]
  },
  {
   "cell_type": "code",
   "execution_count": 32,
   "id": "f5da1f24",
   "metadata": {
    "ExecuteTime": {
     "end_time": "2022-07-25T17:10:00.703110Z",
     "start_time": "2022-07-25T17:10:00.686588Z"
    }
   },
   "outputs": [
    {
     "data": {
      "text/plain": [
       "['bucharest', 'bucharest', 'bucharest', 'budapest', 'budapest']"
      ]
     },
     "execution_count": 32,
     "metadata": {},
     "output_type": "execute_result"
    }
   ],
   "source": [
    "kw[:5]"
   ]
  },
  {
   "cell_type": "code",
   "execution_count": 33,
   "id": "7e092e2a",
   "metadata": {
    "ExecuteTime": {
     "end_time": "2022-07-25T17:41:41.739984Z",
     "start_time": "2022-07-25T17:10:01.859625Z"
    }
   },
   "outputs": [
    {
     "name": "stderr",
     "output_type": "stream",
     "text": [
      "100%|████████████████████████████████████████████████████████████████████████████████| 291/291 [31:39<00:00,  6.53s/it]\n"
     ]
    }
   ],
   "source": [
    "# load bibtext files as pandas dataframes into list\n",
    "\n",
    "dfs = []\n",
    "for f in tqdm(files): #loop through files\n",
    "    \n",
    "    # open file and read file into cache\n",
    "    with open(f'scrape_data/{f}', encoding=\"utf8\") as bibtex_file:\n",
    "        bibtex_str = bibtex_file.read()\n",
    "\n",
    "    # parse bibtex file\n",
    "    bib_database = bibtexparser.loads(bibtex_str)\n",
    "    \n",
    "    # convert to pandas dataframe and append to fds list\n",
    "    as_df = pd.DataFrame(bib_database.entries)\n",
    "    dfs.append(as_df)"
   ]
  },
  {
   "cell_type": "code",
   "execution_count": 34,
   "id": "676e8e51",
   "metadata": {
    "ExecuteTime": {
     "end_time": "2022-07-25T17:46:31.588978Z",
     "start_time": "2022-07-25T17:46:25.995334Z"
    }
   },
   "outputs": [],
   "source": [
    "# add keyword row\n",
    "for i,j in enumerate(kw):\n",
    "    dfs[i][\"kw_cat\"] = j\n",
    "\n",
    "# concat all dataframes to one\n",
    "df = pd.concat(dfs)\n",
    "\n",
    "# all cells contain curly brackets, erase these\n",
    "df = df.apply(lambda x: x.str.strip(\"{}\") if x.dtype == \"object\" else x)\n"
   ]
  },
  {
   "cell_type": "code",
   "execution_count": 35,
   "id": "e5c763d8",
   "metadata": {
    "ExecuteTime": {
     "end_time": "2022-07-25T17:46:44.874182Z",
     "start_time": "2022-07-25T17:46:44.853170Z"
    }
   },
   "outputs": [
    {
     "data": {
      "text/html": [
       "<div>\n",
       "<style scoped>\n",
       "    .dataframe tbody tr th:only-of-type {\n",
       "        vertical-align: middle;\n",
       "    }\n",
       "\n",
       "    .dataframe tbody tr th {\n",
       "        vertical-align: top;\n",
       "    }\n",
       "\n",
       "    .dataframe thead th {\n",
       "        text-align: right;\n",
       "    }\n",
       "</style>\n",
       "<table border=\"1\" class=\"dataframe\">\n",
       "  <thead>\n",
       "    <tr style=\"text-align: right;\">\n",
       "      <th></th>\n",
       "      <th>da</th>\n",
       "      <th>unique-id</th>\n",
       "      <th>web-of-science-index</th>\n",
       "      <th>doc-delivery-number</th>\n",
       "      <th>journal-iso</th>\n",
       "      <th>usage-count-since-2013</th>\n",
       "      <th>usage-count-last-180-days</th>\n",
       "      <th>times-cited</th>\n",
       "      <th>number-of-cited-references</th>\n",
       "      <th>orcid-numbers</th>\n",
       "      <th>...</th>\n",
       "      <th>esi-highly-cited-paper</th>\n",
       "      <th>kw_cat</th>\n",
       "      <th>earlyaccessdate</th>\n",
       "      <th>series</th>\n",
       "      <th>booktitle</th>\n",
       "      <th>note</th>\n",
       "      <th>organization</th>\n",
       "      <th>isbn</th>\n",
       "      <th>editor</th>\n",
       "      <th>book-group-author</th>\n",
       "    </tr>\n",
       "  </thead>\n",
       "  <tbody>\n",
       "    <tr>\n",
       "      <th>0</th>\n",
       "      <td>2022-07-25</td>\n",
       "      <td>WOS:000456043800016</td>\n",
       "      <td>Science Citation Index Expanded (SCI-EXPANDED)</td>\n",
       "      <td>HH9GD</td>\n",
       "      <td>Environ. Eng. Manag. J.</td>\n",
       "      <td>22</td>\n",
       "      <td>2</td>\n",
       "      <td>1</td>\n",
       "      <td>29</td>\n",
       "      <td>ionita, daniela/0000-0002-1882-4871\\nProdana, ...</td>\n",
       "      <td>...</td>\n",
       "      <td>NaN</td>\n",
       "      <td>bucharest</td>\n",
       "      <td>NaN</td>\n",
       "      <td>NaN</td>\n",
       "      <td>NaN</td>\n",
       "      <td>NaN</td>\n",
       "      <td>NaN</td>\n",
       "      <td>NaN</td>\n",
       "      <td>NaN</td>\n",
       "      <td>NaN</td>\n",
       "    </tr>\n",
       "    <tr>\n",
       "      <th>1</th>\n",
       "      <td>2022-07-25</td>\n",
       "      <td>WOS:000431040600034</td>\n",
       "      <td>Science Citation Index Expanded (SCI-EXPANDED)</td>\n",
       "      <td>GE2JD</td>\n",
       "      <td>J. Radioanal. Nucl. Chem.</td>\n",
       "      <td>13</td>\n",
       "      <td>0</td>\n",
       "      <td>1</td>\n",
       "      <td>16</td>\n",
       "      <td>Luculescu, Catalin R/0000-0001-6852-401X</td>\n",
       "      <td>...</td>\n",
       "      <td>NaN</td>\n",
       "      <td>bucharest</td>\n",
       "      <td>NaN</td>\n",
       "      <td>NaN</td>\n",
       "      <td>NaN</td>\n",
       "      <td>NaN</td>\n",
       "      <td>NaN</td>\n",
       "      <td>NaN</td>\n",
       "      <td>NaN</td>\n",
       "      <td>NaN</td>\n",
       "    </tr>\n",
       "    <tr>\n",
       "      <th>2</th>\n",
       "      <td>2022-07-25</td>\n",
       "      <td>WOS:000440382200008</td>\n",
       "      <td>Emerging Sources Citation Index (ESCI)</td>\n",
       "      <td>GO8WY</td>\n",
       "      <td>Philol. Jassyensia</td>\n",
       "      <td>0</td>\n",
       "      <td>0</td>\n",
       "      <td>0</td>\n",
       "      <td>25</td>\n",
       "      <td>NaN</td>\n",
       "      <td>...</td>\n",
       "      <td>NaN</td>\n",
       "      <td>bucharest</td>\n",
       "      <td>NaN</td>\n",
       "      <td>NaN</td>\n",
       "      <td>NaN</td>\n",
       "      <td>NaN</td>\n",
       "      <td>NaN</td>\n",
       "      <td>NaN</td>\n",
       "      <td>NaN</td>\n",
       "      <td>NaN</td>\n",
       "    </tr>\n",
       "    <tr>\n",
       "      <th>3</th>\n",
       "      <td>2022-07-25</td>\n",
       "      <td>WOS:000416769400011</td>\n",
       "      <td>Science Citation Index Expanded (SCI-EXPANDED)</td>\n",
       "      <td>FO3XC</td>\n",
       "      <td>Gut</td>\n",
       "      <td>5</td>\n",
       "      <td>0</td>\n",
       "      <td>34</td>\n",
       "      <td>32</td>\n",
       "      <td>ensari, arzu/0000-0001-7036-4457\\nRostami-Neja...</td>\n",
       "      <td>...</td>\n",
       "      <td>NaN</td>\n",
       "      <td>bucharest</td>\n",
       "      <td>NaN</td>\n",
       "      <td>NaN</td>\n",
       "      <td>NaN</td>\n",
       "      <td>NaN</td>\n",
       "      <td>NaN</td>\n",
       "      <td>NaN</td>\n",
       "      <td>NaN</td>\n",
       "      <td>NaN</td>\n",
       "    </tr>\n",
       "    <tr>\n",
       "      <th>4</th>\n",
       "      <td>2022-07-25</td>\n",
       "      <td>WOS:000416545200131</td>\n",
       "      <td>Science Citation Index Expanded (SCI-EXPANDED)...</td>\n",
       "      <td>FO1SQ</td>\n",
       "      <td>Int. J. Environ. Res. Public Health</td>\n",
       "      <td>9</td>\n",
       "      <td>1</td>\n",
       "      <td>11</td>\n",
       "      <td>27</td>\n",
       "      <td>Paraschiv, Lizica Simona/0000-0002-9109-9151\\n...</td>\n",
       "      <td>...</td>\n",
       "      <td>NaN</td>\n",
       "      <td>bucharest</td>\n",
       "      <td>NaN</td>\n",
       "      <td>NaN</td>\n",
       "      <td>NaN</td>\n",
       "      <td>NaN</td>\n",
       "      <td>NaN</td>\n",
       "      <td>NaN</td>\n",
       "      <td>NaN</td>\n",
       "      <td>NaN</td>\n",
       "    </tr>\n",
       "  </tbody>\n",
       "</table>\n",
       "<p>5 rows × 50 columns</p>\n",
       "</div>"
      ],
      "text/plain": [
       "           da            unique-id  \\\n",
       "0  2022-07-25  WOS:000456043800016   \n",
       "1  2022-07-25  WOS:000431040600034   \n",
       "2  2022-07-25  WOS:000440382200008   \n",
       "3  2022-07-25  WOS:000416769400011   \n",
       "4  2022-07-25  WOS:000416545200131   \n",
       "\n",
       "                                web-of-science-index doc-delivery-number  \\\n",
       "0     Science Citation Index Expanded (SCI-EXPANDED)               HH9GD   \n",
       "1     Science Citation Index Expanded (SCI-EXPANDED)               GE2JD   \n",
       "2             Emerging Sources Citation Index (ESCI)               GO8WY   \n",
       "3     Science Citation Index Expanded (SCI-EXPANDED)               FO3XC   \n",
       "4  Science Citation Index Expanded (SCI-EXPANDED)...               FO1SQ   \n",
       "\n",
       "                           journal-iso usage-count-since-2013  \\\n",
       "0              Environ. Eng. Manag. J.                     22   \n",
       "1            J. Radioanal. Nucl. Chem.                     13   \n",
       "2                   Philol. Jassyensia                      0   \n",
       "3                                  Gut                      5   \n",
       "4  Int. J. Environ. Res. Public Health                      9   \n",
       "\n",
       "  usage-count-last-180-days times-cited number-of-cited-references  \\\n",
       "0                         2           1                         29   \n",
       "1                         0           1                         16   \n",
       "2                         0           0                         25   \n",
       "3                         0          34                         32   \n",
       "4                         1          11                         27   \n",
       "\n",
       "                                       orcid-numbers  ...  \\\n",
       "0  ionita, daniela/0000-0002-1882-4871\\nProdana, ...  ...   \n",
       "1           Luculescu, Catalin R/0000-0001-6852-401X  ...   \n",
       "2                                                NaN  ...   \n",
       "3  ensari, arzu/0000-0001-7036-4457\\nRostami-Neja...  ...   \n",
       "4  Paraschiv, Lizica Simona/0000-0002-9109-9151\\n...  ...   \n",
       "\n",
       "  esi-highly-cited-paper     kw_cat earlyaccessdate series booktitle note  \\\n",
       "0                    NaN  bucharest             NaN    NaN       NaN  NaN   \n",
       "1                    NaN  bucharest             NaN    NaN       NaN  NaN   \n",
       "2                    NaN  bucharest             NaN    NaN       NaN  NaN   \n",
       "3                    NaN  bucharest             NaN    NaN       NaN  NaN   \n",
       "4                    NaN  bucharest             NaN    NaN       NaN  NaN   \n",
       "\n",
       "  organization isbn editor book-group-author  \n",
       "0          NaN  NaN    NaN               NaN  \n",
       "1          NaN  NaN    NaN               NaN  \n",
       "2          NaN  NaN    NaN               NaN  \n",
       "3          NaN  NaN    NaN               NaN  \n",
       "4          NaN  NaN    NaN               NaN  \n",
       "\n",
       "[5 rows x 50 columns]"
      ]
     },
     "execution_count": 35,
     "metadata": {},
     "output_type": "execute_result"
    }
   ],
   "source": [
    "df.head()"
   ]
  },
  {
   "cell_type": "code",
   "execution_count": 36,
   "id": "f08553d8",
   "metadata": {
    "ExecuteTime": {
     "end_time": "2022-07-25T17:46:47.621472Z",
     "start_time": "2022-07-25T17:46:47.576366Z"
    }
   },
   "outputs": [
    {
     "data": {
      "text/plain": [
       "Counter({'bucharest': 2336,\n",
       "         'budapest': 3154,\n",
       "         'czech': 22256,\n",
       "         'hungary': 23308,\n",
       "         'italy': 130676,\n",
       "         'lisbon': 5268,\n",
       "         'portugal': 34599,\n",
       "         'prague': 5490,\n",
       "         'romania': 27818,\n",
       "         'rome': 22350,\n",
       "         'vatican': 133})"
      ]
     },
     "execution_count": 36,
     "metadata": {},
     "output_type": "execute_result"
    }
   ],
   "source": [
    "from collections import Counter\n",
    "\n",
    "Counter(df[\"kw_cat\"])"
   ]
  },
  {
   "cell_type": "markdown",
   "id": "9b4c7114",
   "metadata": {},
   "source": [
    "## 2. Aggregate Duplicates (papers returned by multiple keywords)\n"
   ]
  },
  {
   "cell_type": "markdown",
   "id": "9d913b79",
   "metadata": {},
   "source": [
    "#### find duplicates and keep kw info for all of them"
   ]
  },
  {
   "cell_type": "code",
   "execution_count": 37,
   "id": "5dd5af00",
   "metadata": {
    "ExecuteTime": {
     "end_time": "2022-07-25T17:46:58.628145Z",
     "start_time": "2022-07-25T17:46:58.316944Z"
    }
   },
   "outputs": [
    {
     "data": {
      "text/plain": [
       "Counter({True: 37670, False: 239718})"
      ]
     },
     "execution_count": 37,
     "metadata": {},
     "output_type": "execute_result"
    }
   ],
   "source": [
    "from collections import Counter\n",
    "\n",
    "# generate dummyvariables for keywords and add to dataframe\n",
    "dummy_kw = pd.get_dummies(df[\"kw_cat\"])\n",
    "df_new = pd.concat([df, dummy_kw], axis=1)\n",
    "\n",
    "# count duplicates based on unique-id\n",
    "Counter(df_new.duplicated([\"unique-id\"],keep=False))"
   ]
  },
  {
   "cell_type": "code",
   "execution_count": 38,
   "id": "5fb75d74",
   "metadata": {
    "ExecuteTime": {
     "end_time": "2022-07-25T17:47:00.984943Z",
     "start_time": "2022-07-25T17:47:00.418886Z"
    }
   },
   "outputs": [
    {
     "name": "stdout",
     "output_type": "stream",
     "text": [
      "2\n",
      "0\n"
     ]
    }
   ],
   "source": [
    "# erase nan rows in unique id\n",
    "# print number nans\n",
    "print(df_new['unique-id'].isnull().values.sum())\n",
    "df_new.dropna(subset=[\"unique-id\"], inplace=True)\n",
    "print(df_new['unique-id'].isnull().values.sum())"
   ]
  },
  {
   "cell_type": "code",
   "execution_count": 39,
   "id": "6d9d67c1",
   "metadata": {
    "ExecuteTime": {
     "end_time": "2022-07-25T17:47:05.140880Z",
     "start_time": "2022-07-25T17:47:04.615248Z"
    }
   },
   "outputs": [],
   "source": [
    "# get a dataframe containg the duplicates and one containing no duplicates\n",
    "\n",
    "df_dupli = df_new[df_new.duplicated([\"unique-id\"],keep=False)]\n",
    "\n",
    "df_no_dupli = df_new[~df_new.duplicated([\"unique-id\"],keep=False)]"
   ]
  },
  {
   "cell_type": "code",
   "execution_count": 40,
   "id": "233268ec",
   "metadata": {
    "ExecuteTime": {
     "end_time": "2022-07-25T17:47:11.171958Z",
     "start_time": "2022-07-25T17:47:11.165462Z"
    }
   },
   "outputs": [
    {
     "name": "stdout",
     "output_type": "stream",
     "text": [
      "239718 37668\n"
     ]
    }
   ],
   "source": [
    "print(len(df_no_dupli),len(df_dupli))"
   ]
  },
  {
   "cell_type": "code",
   "execution_count": 41,
   "id": "0dd60b67",
   "metadata": {
    "ExecuteTime": {
     "end_time": "2022-07-25T17:47:12.968708Z",
     "start_time": "2022-07-25T17:47:12.956705Z"
    }
   },
   "outputs": [
    {
     "name": "stdout",
     "output_type": "stream",
     "text": [
      "277388 37668 239718\n"
     ]
    }
   ],
   "source": [
    "print(len(df),len(df_dupli),len(df_no_dupli))"
   ]
  },
  {
   "cell_type": "code",
   "execution_count": 42,
   "id": "113e0964",
   "metadata": {
    "ExecuteTime": {
     "end_time": "2022-07-25T17:54:33.887598Z",
     "start_time": "2022-07-25T17:47:19.064640Z"
    }
   },
   "outputs": [
    {
     "name": "stderr",
     "output_type": "stream",
     "text": [
      "100%|████████████████████████████████████████████████████████████████████████████| 17994/17994 [07:14<00:00, 41.39it/s]\n"
     ]
    }
   ],
   "source": [
    "# 1. get set of unique-ids of duplicates\n",
    "\n",
    "dupli = set(df_dupli[\"unique-id\"][df_dupli.duplicated([\"unique-id\"])])\n",
    "\n",
    "# 2. make data set for duplicates with summed up dummies\n",
    "\n",
    "df_agg = pd.DataFrame(columns=df_dupli.columns) #empty dataset with correct columns\n",
    "\n",
    "# loop through unique ids of duplicates and um up there dummy vectors\n",
    "# add then to df_agg that aggregates the dummys\n",
    "for ID in tqdm(dupli):\n",
    "    \n",
    "    agg_dummies = df_dupli[df_dupli[\"unique-id\"]==ID][dummy_kw.columns].sum(axis=0)\n",
    "    dummy_df = pd.DataFrame([agg_dummies])\n",
    "    rest_df = df_dupli[df_dupli[\"unique-id\"]==ID]\n",
    "    rest_df.reset_index(inplace=True, drop=True)\n",
    "    rest_df = rest_df.iloc[0][~df_dupli.columns.isin(dummy_kw.columns)]\n",
    "    rest_df = pd.DataFrame([rest_df])\n",
    "\n",
    "    new_row = pd.concat([rest_df,dummy_df],axis=1)\n",
    "\n",
    "    df_agg = pd.concat([df_agg,new_row])"
   ]
  },
  {
   "cell_type": "code",
   "execution_count": 47,
   "id": "84e7a1ef",
   "metadata": {
    "ExecuteTime": {
     "end_time": "2022-07-25T17:57:05.460952Z",
     "start_time": "2022-07-25T17:57:05.078547Z"
    }
   },
   "outputs": [],
   "source": [
    "#### all rows contain at least one 1\n",
    "\n",
    "dummies = df_agg.iloc[:,50:]\n",
    "c = 0\n",
    "for index, row in dummies.iterrows():\n",
    "    c+=1\n",
    "    if sum(row) == 0:\n",
    "        print(row)\n",
    "        "
   ]
  },
  {
   "cell_type": "code",
   "execution_count": 48,
   "id": "e966f0cb",
   "metadata": {
    "ExecuteTime": {
     "end_time": "2022-07-25T17:57:08.472790Z",
     "start_time": "2022-07-25T17:57:08.459549Z"
    }
   },
   "outputs": [],
   "source": [
    "#### sum duplicates had indicators at the same keyword\n",
    "#### appeared multiple times in same search\n",
    "# make sure that values higher than 1 are replaced by 1\n",
    "#  to avoid issues later on\n",
    "\n",
    "dummies = df_agg.iloc[:,50:]\n"
   ]
  },
  {
   "cell_type": "code",
   "execution_count": 49,
   "id": "eef4a745",
   "metadata": {
    "ExecuteTime": {
     "end_time": "2022-07-25T17:57:15.448406Z",
     "start_time": "2022-07-25T17:57:15.060989Z"
    }
   },
   "outputs": [],
   "source": [
    "# switch all positive entries to 1\n",
    "dummies[dummies >= 1] = 1\n",
    "\n",
    "for index, row in dummies.iterrows():\n",
    "    if sum(row) == 0:\n",
    "        print(row)\n"
   ]
  },
  {
   "cell_type": "code",
   "execution_count": 50,
   "id": "e7558480",
   "metadata": {
    "ExecuteTime": {
     "end_time": "2022-07-25T17:57:17.257541Z",
     "start_time": "2022-07-25T17:57:17.227532Z"
    }
   },
   "outputs": [
    {
     "name": "stdout",
     "output_type": "stream",
     "text": [
      "[0 1]\n",
      "[0 1]\n",
      "[0 1]\n",
      "[0 1]\n",
      "[1 0]\n",
      "[0 1]\n",
      "[0 1]\n",
      "[0 1]\n",
      "[0 1]\n",
      "[1 0]\n",
      "[0 1]\n"
     ]
    }
   ],
   "source": [
    "\n",
    "# check id each col has only zeroes and ones\n",
    "for col in dummies.columns:\n",
    "    print(dummies[col].unique())\n",
    "    \n",
    "\n"
   ]
  },
  {
   "cell_type": "code",
   "execution_count": 51,
   "id": "0cf31896",
   "metadata": {
    "ExecuteTime": {
     "end_time": "2022-07-25T17:57:19.724596Z",
     "start_time": "2022-07-25T17:57:19.708327Z"
    }
   },
   "outputs": [],
   "source": [
    "df_agg.iloc[:,50:] = dummies"
   ]
  },
  {
   "cell_type": "code",
   "execution_count": 52,
   "id": "d427af96",
   "metadata": {
    "ExecuteTime": {
     "end_time": "2022-07-25T17:57:21.525378Z",
     "start_time": "2022-07-25T17:57:21.510871Z"
    }
   },
   "outputs": [
    {
     "data": {
      "text/plain": [
       "Index(['da', 'unique-id', 'web-of-science-index', 'doc-delivery-number',\n",
       "       'journal-iso', 'usage-count-since-2013', 'usage-count-last-180-days',\n",
       "       'times-cited', 'number-of-cited-references', 'orcid-numbers',\n",
       "       'researcherid-numbers', 'author-email', 'web-of-science-categories',\n",
       "       'research-areas', 'keywords-plus', 'keywords', 'eissn', 'issn',\n",
       "       'affiliation', 'language', 'type', 'address', 'publisher', 'abstract',\n",
       "       'month', 'pages', 'number', 'volume', 'year', 'journal', 'title',\n",
       "       'author', 'ENTRYTYPE', 'ID', 'funding-text', 'funding-acknowledgement',\n",
       "       'doi', 'oa', 'article-number', 'esi-hot-paper',\n",
       "       'esi-highly-cited-paper', 'kw_cat', 'earlyaccessdate', 'series',\n",
       "       'booktitle', 'note', 'organization', 'isbn', 'editor',\n",
       "       'book-group-author', 'bucharest', 'budapest', 'czech', 'hungary',\n",
       "       'italy', 'lisbon', 'portugal', 'prague', 'romania', 'rome', 'vatican'],\n",
       "      dtype='object')"
      ]
     },
     "execution_count": 52,
     "metadata": {},
     "output_type": "execute_result"
    }
   ],
   "source": [
    "df_agg.columns"
   ]
  },
  {
   "cell_type": "code",
   "execution_count": 53,
   "id": "067eb19c",
   "metadata": {
    "ExecuteTime": {
     "end_time": "2022-07-25T17:57:23.484671Z",
     "start_time": "2022-07-25T17:57:23.310816Z"
    }
   },
   "outputs": [],
   "source": [
    "# put together the aggregated duplicates and the no duplicates dataframe to receive the final df\n",
    "\n",
    "df_final = pd.concat([df_agg,df_no_dupli])"
   ]
  },
  {
   "cell_type": "code",
   "execution_count": 54,
   "id": "1ebe6600",
   "metadata": {
    "ExecuteTime": {
     "end_time": "2022-07-25T17:57:25.818454Z",
     "start_time": "2022-07-25T17:57:25.467377Z"
    }
   },
   "outputs": [
    {
     "data": {
      "text/html": [
       "<div>\n",
       "<style scoped>\n",
       "    .dataframe tbody tr th:only-of-type {\n",
       "        vertical-align: middle;\n",
       "    }\n",
       "\n",
       "    .dataframe tbody tr th {\n",
       "        vertical-align: top;\n",
       "    }\n",
       "\n",
       "    .dataframe thead th {\n",
       "        text-align: right;\n",
       "    }\n",
       "</style>\n",
       "<table border=\"1\" class=\"dataframe\">\n",
       "  <thead>\n",
       "    <tr style=\"text-align: right;\">\n",
       "      <th></th>\n",
       "      <th>da</th>\n",
       "      <th>unique-id</th>\n",
       "      <th>web-of-science-index</th>\n",
       "      <th>doc-delivery-number</th>\n",
       "      <th>journal-iso</th>\n",
       "      <th>usage-count-since-2013</th>\n",
       "      <th>usage-count-last-180-days</th>\n",
       "      <th>times-cited</th>\n",
       "      <th>number-of-cited-references</th>\n",
       "      <th>orcid-numbers</th>\n",
       "      <th>...</th>\n",
       "      <th>budapest</th>\n",
       "      <th>czech</th>\n",
       "      <th>hungary</th>\n",
       "      <th>italy</th>\n",
       "      <th>lisbon</th>\n",
       "      <th>portugal</th>\n",
       "      <th>prague</th>\n",
       "      <th>romania</th>\n",
       "      <th>rome</th>\n",
       "      <th>vatican</th>\n",
       "    </tr>\n",
       "  </thead>\n",
       "  <tbody>\n",
       "    <tr>\n",
       "      <th>0</th>\n",
       "      <td>2022-07-25</td>\n",
       "      <td>WOS:A1997YF94400004</td>\n",
       "      <td>Science Citation Index Expanded (SCI-EXPANDED)</td>\n",
       "      <td>YF944</td>\n",
       "      <td>Mineral. Mag.</td>\n",
       "      <td>3</td>\n",
       "      <td>0</td>\n",
       "      <td>34</td>\n",
       "      <td>41</td>\n",
       "      <td>NaN</td>\n",
       "      <td>...</td>\n",
       "      <td>0</td>\n",
       "      <td>0</td>\n",
       "      <td>0</td>\n",
       "      <td>1</td>\n",
       "      <td>0</td>\n",
       "      <td>0</td>\n",
       "      <td>0</td>\n",
       "      <td>0</td>\n",
       "      <td>1</td>\n",
       "      <td>0</td>\n",
       "    </tr>\n",
       "    <tr>\n",
       "      <th>0</th>\n",
       "      <td>2022-07-25</td>\n",
       "      <td>WOS:000278865400001</td>\n",
       "      <td>Arts &amp;amp; Humanities Citation Index (A&amp;amp;HCI)</td>\n",
       "      <td>611ZW</td>\n",
       "      <td>Hist. Polit. Thought</td>\n",
       "      <td>1</td>\n",
       "      <td>0</td>\n",
       "      <td>14</td>\n",
       "      <td>53</td>\n",
       "      <td>NaN</td>\n",
       "      <td>...</td>\n",
       "      <td>0</td>\n",
       "      <td>0</td>\n",
       "      <td>0</td>\n",
       "      <td>1</td>\n",
       "      <td>0</td>\n",
       "      <td>0</td>\n",
       "      <td>0</td>\n",
       "      <td>0</td>\n",
       "      <td>1</td>\n",
       "      <td>0</td>\n",
       "    </tr>\n",
       "    <tr>\n",
       "      <th>0</th>\n",
       "      <td>2022-07-25</td>\n",
       "      <td>WOS:000265439800025</td>\n",
       "      <td>Science Citation Index Expanded (SCI-EXPANDED)</td>\n",
       "      <td>436TU</td>\n",
       "      <td>Aquat. Ecol.</td>\n",
       "      <td>31</td>\n",
       "      <td>0</td>\n",
       "      <td>25</td>\n",
       "      <td>45</td>\n",
       "      <td>Fanelli, Giuliano/0000-0002-3143-1212</td>\n",
       "      <td>...</td>\n",
       "      <td>0</td>\n",
       "      <td>0</td>\n",
       "      <td>0</td>\n",
       "      <td>1</td>\n",
       "      <td>0</td>\n",
       "      <td>0</td>\n",
       "      <td>0</td>\n",
       "      <td>0</td>\n",
       "      <td>1</td>\n",
       "      <td>0</td>\n",
       "    </tr>\n",
       "    <tr>\n",
       "      <th>0</th>\n",
       "      <td>2022-07-25</td>\n",
       "      <td>WOS:000245709800019</td>\n",
       "      <td>Science Citation Index Expanded (SCI-EXPANDED)</td>\n",
       "      <td>157HP</td>\n",
       "      <td>Vet. Parasitol.</td>\n",
       "      <td>29</td>\n",
       "      <td>3</td>\n",
       "      <td>110</td>\n",
       "      <td>41</td>\n",
       "      <td>Vadlejch, Jaroslav/0000-0002-5958-7606\\nPekar,...</td>\n",
       "      <td>...</td>\n",
       "      <td>0</td>\n",
       "      <td>1</td>\n",
       "      <td>0</td>\n",
       "      <td>0</td>\n",
       "      <td>0</td>\n",
       "      <td>0</td>\n",
       "      <td>1</td>\n",
       "      <td>0</td>\n",
       "      <td>0</td>\n",
       "      <td>0</td>\n",
       "    </tr>\n",
       "    <tr>\n",
       "      <th>0</th>\n",
       "      <td>2022-07-25</td>\n",
       "      <td>WOS:000600652300243</td>\n",
       "      <td>Emerging Sources Citation Index (ESCI)</td>\n",
       "      <td>PH8JS</td>\n",
       "      <td>Data Brief</td>\n",
       "      <td>4</td>\n",
       "      <td>1</td>\n",
       "      <td>0</td>\n",
       "      <td>6</td>\n",
       "      <td>de Almeida, Ana Maria/0000-0001-9519-4634\\nNun...</td>\n",
       "      <td>...</td>\n",
       "      <td>0</td>\n",
       "      <td>0</td>\n",
       "      <td>0</td>\n",
       "      <td>0</td>\n",
       "      <td>1</td>\n",
       "      <td>1</td>\n",
       "      <td>0</td>\n",
       "      <td>0</td>\n",
       "      <td>0</td>\n",
       "      <td>0</td>\n",
       "    </tr>\n",
       "    <tr>\n",
       "      <th>...</th>\n",
       "      <td>...</td>\n",
       "      <td>...</td>\n",
       "      <td>...</td>\n",
       "      <td>...</td>\n",
       "      <td>...</td>\n",
       "      <td>...</td>\n",
       "      <td>...</td>\n",
       "      <td>...</td>\n",
       "      <td>...</td>\n",
       "      <td>...</td>\n",
       "      <td>...</td>\n",
       "      <td>...</td>\n",
       "      <td>...</td>\n",
       "      <td>...</td>\n",
       "      <td>...</td>\n",
       "      <td>...</td>\n",
       "      <td>...</td>\n",
       "      <td>...</td>\n",
       "      <td>...</td>\n",
       "      <td>...</td>\n",
       "      <td>...</td>\n",
       "    </tr>\n",
       "    <tr>\n",
       "      <th>37</th>\n",
       "      <td>2022-07-25</td>\n",
       "      <td>WOS:000727322500001</td>\n",
       "      <td>Science Citation Index Expanded (SCI-EXPANDED)</td>\n",
       "      <td>1T5XY</td>\n",
       "      <td>Otolaryngol. Head Neck Surg.</td>\n",
       "      <td>1</td>\n",
       "      <td>1</td>\n",
       "      <td>1</td>\n",
       "      <td>42</td>\n",
       "      <td>Ralli, Massimo/0000-0001-8776-0421</td>\n",
       "      <td>...</td>\n",
       "      <td>0</td>\n",
       "      <td>0</td>\n",
       "      <td>0</td>\n",
       "      <td>0</td>\n",
       "      <td>0</td>\n",
       "      <td>0</td>\n",
       "      <td>0</td>\n",
       "      <td>0</td>\n",
       "      <td>0</td>\n",
       "      <td>1</td>\n",
       "    </tr>\n",
       "    <tr>\n",
       "      <th>38</th>\n",
       "      <td>2022-07-25</td>\n",
       "      <td>WOS:000478585400040</td>\n",
       "      <td>Arts &amp;amp; Humanities Citation Index (A&amp;amp;HCI)</td>\n",
       "      <td>IN3OE</td>\n",
       "      <td>Religions</td>\n",
       "      <td>0</td>\n",
       "      <td>0</td>\n",
       "      <td>0</td>\n",
       "      <td>33</td>\n",
       "      <td>NaN</td>\n",
       "      <td>...</td>\n",
       "      <td>0</td>\n",
       "      <td>0</td>\n",
       "      <td>0</td>\n",
       "      <td>0</td>\n",
       "      <td>0</td>\n",
       "      <td>0</td>\n",
       "      <td>0</td>\n",
       "      <td>0</td>\n",
       "      <td>0</td>\n",
       "      <td>1</td>\n",
       "    </tr>\n",
       "    <tr>\n",
       "      <th>42</th>\n",
       "      <td>2022-07-25</td>\n",
       "      <td>WOS:000712542100002</td>\n",
       "      <td>Science Citation Index Expanded (SCI-EXPANDED)</td>\n",
       "      <td>WO6DE</td>\n",
       "      <td>Eur. Rev. Med. Pharmacol. Sci.</td>\n",
       "      <td>0</td>\n",
       "      <td>0</td>\n",
       "      <td>0</td>\n",
       "      <td>38</td>\n",
       "      <td>NaN</td>\n",
       "      <td>...</td>\n",
       "      <td>0</td>\n",
       "      <td>0</td>\n",
       "      <td>0</td>\n",
       "      <td>0</td>\n",
       "      <td>0</td>\n",
       "      <td>0</td>\n",
       "      <td>0</td>\n",
       "      <td>0</td>\n",
       "      <td>0</td>\n",
       "      <td>1</td>\n",
       "    </tr>\n",
       "    <tr>\n",
       "      <th>43</th>\n",
       "      <td>2022-07-25</td>\n",
       "      <td>WOS:000477789200002</td>\n",
       "      <td>Arts &amp;amp; Humanities Citation Index (A&amp;amp;HCI)</td>\n",
       "      <td>IM1ZA</td>\n",
       "      <td>Milli Folklor</td>\n",
       "      <td>1</td>\n",
       "      <td>0</td>\n",
       "      <td>1</td>\n",
       "      <td>8</td>\n",
       "      <td>Ekici, Metin/0000-0002-9400-8462</td>\n",
       "      <td>...</td>\n",
       "      <td>0</td>\n",
       "      <td>0</td>\n",
       "      <td>0</td>\n",
       "      <td>0</td>\n",
       "      <td>0</td>\n",
       "      <td>0</td>\n",
       "      <td>0</td>\n",
       "      <td>0</td>\n",
       "      <td>0</td>\n",
       "      <td>1</td>\n",
       "    </tr>\n",
       "    <tr>\n",
       "      <th>45</th>\n",
       "      <td>2022-07-25</td>\n",
       "      <td>WOS:000674645100003</td>\n",
       "      <td>Emerging Sources Citation Index (ESCI)</td>\n",
       "      <td>TL1WG</td>\n",
       "      <td>Bogosl. Smotra</td>\n",
       "      <td>0</td>\n",
       "      <td>0</td>\n",
       "      <td>0</td>\n",
       "      <td>39</td>\n",
       "      <td>NaN</td>\n",
       "      <td>...</td>\n",
       "      <td>0</td>\n",
       "      <td>0</td>\n",
       "      <td>0</td>\n",
       "      <td>0</td>\n",
       "      <td>0</td>\n",
       "      <td>0</td>\n",
       "      <td>0</td>\n",
       "      <td>0</td>\n",
       "      <td>0</td>\n",
       "      <td>1</td>\n",
       "    </tr>\n",
       "  </tbody>\n",
       "</table>\n",
       "<p>257712 rows × 61 columns</p>\n",
       "</div>"
      ],
      "text/plain": [
       "            da            unique-id  \\\n",
       "0   2022-07-25  WOS:A1997YF94400004   \n",
       "0   2022-07-25  WOS:000278865400001   \n",
       "0   2022-07-25  WOS:000265439800025   \n",
       "0   2022-07-25  WOS:000245709800019   \n",
       "0   2022-07-25  WOS:000600652300243   \n",
       "..         ...                  ...   \n",
       "37  2022-07-25  WOS:000727322500001   \n",
       "38  2022-07-25  WOS:000478585400040   \n",
       "42  2022-07-25  WOS:000712542100002   \n",
       "43  2022-07-25  WOS:000477789200002   \n",
       "45  2022-07-25  WOS:000674645100003   \n",
       "\n",
       "                                web-of-science-index doc-delivery-number  \\\n",
       "0     Science Citation Index Expanded (SCI-EXPANDED)               YF944   \n",
       "0   Arts &amp; Humanities Citation Index (A&amp;HCI)               611ZW   \n",
       "0     Science Citation Index Expanded (SCI-EXPANDED)               436TU   \n",
       "0     Science Citation Index Expanded (SCI-EXPANDED)               157HP   \n",
       "0             Emerging Sources Citation Index (ESCI)               PH8JS   \n",
       "..                                               ...                 ...   \n",
       "37    Science Citation Index Expanded (SCI-EXPANDED)               1T5XY   \n",
       "38  Arts &amp; Humanities Citation Index (A&amp;HCI)               IN3OE   \n",
       "42    Science Citation Index Expanded (SCI-EXPANDED)               WO6DE   \n",
       "43  Arts &amp; Humanities Citation Index (A&amp;HCI)               IM1ZA   \n",
       "45            Emerging Sources Citation Index (ESCI)               TL1WG   \n",
       "\n",
       "                       journal-iso usage-count-since-2013  \\\n",
       "0                    Mineral. Mag.                      3   \n",
       "0             Hist. Polit. Thought                      1   \n",
       "0                     Aquat. Ecol.                     31   \n",
       "0                  Vet. Parasitol.                     29   \n",
       "0                       Data Brief                      4   \n",
       "..                             ...                    ...   \n",
       "37    Otolaryngol. Head Neck Surg.                      1   \n",
       "38                       Religions                      0   \n",
       "42  Eur. Rev. Med. Pharmacol. Sci.                      0   \n",
       "43                   Milli Folklor                      1   \n",
       "45                  Bogosl. Smotra                      0   \n",
       "\n",
       "   usage-count-last-180-days times-cited number-of-cited-references  \\\n",
       "0                          0          34                         41   \n",
       "0                          0          14                         53   \n",
       "0                          0          25                         45   \n",
       "0                          3         110                         41   \n",
       "0                          1           0                          6   \n",
       "..                       ...         ...                        ...   \n",
       "37                         1           1                         42   \n",
       "38                         0           0                         33   \n",
       "42                         0           0                         38   \n",
       "43                         0           1                          8   \n",
       "45                         0           0                         39   \n",
       "\n",
       "                                        orcid-numbers  ... budapest czech  \\\n",
       "0                                                 NaN  ...        0     0   \n",
       "0                                                 NaN  ...        0     0   \n",
       "0               Fanelli, Giuliano/0000-0002-3143-1212  ...        0     0   \n",
       "0   Vadlejch, Jaroslav/0000-0002-5958-7606\\nPekar,...  ...        0     1   \n",
       "0   de Almeida, Ana Maria/0000-0001-9519-4634\\nNun...  ...        0     0   \n",
       "..                                                ...  ...      ...   ...   \n",
       "37                 Ralli, Massimo/0000-0001-8776-0421  ...        0     0   \n",
       "38                                                NaN  ...        0     0   \n",
       "42                                                NaN  ...        0     0   \n",
       "43                   Ekici, Metin/0000-0002-9400-8462  ...        0     0   \n",
       "45                                                NaN  ...        0     0   \n",
       "\n",
       "   hungary italy lisbon portugal prague romania rome vatican  \n",
       "0        0     1      0        0      0       0    1       0  \n",
       "0        0     1      0        0      0       0    1       0  \n",
       "0        0     1      0        0      0       0    1       0  \n",
       "0        0     0      0        0      1       0    0       0  \n",
       "0        0     0      1        1      0       0    0       0  \n",
       "..     ...   ...    ...      ...    ...     ...  ...     ...  \n",
       "37       0     0      0        0      0       0    0       1  \n",
       "38       0     0      0        0      0       0    0       1  \n",
       "42       0     0      0        0      0       0    0       1  \n",
       "43       0     0      0        0      0       0    0       1  \n",
       "45       0     0      0        0      0       0    0       1  \n",
       "\n",
       "[257712 rows x 61 columns]"
      ]
     },
     "execution_count": 54,
     "metadata": {},
     "output_type": "execute_result"
    }
   ],
   "source": [
    "df_final"
   ]
  },
  {
   "cell_type": "code",
   "execution_count": 55,
   "id": "3100838b",
   "metadata": {
    "ExecuteTime": {
     "end_time": "2022-07-25T17:57:31.198247Z",
     "start_time": "2022-07-25T17:57:27.764025Z"
    }
   },
   "outputs": [],
   "source": [
    "## save as pickle!!!\n",
    "\n",
    "import pickle\n",
    "\n",
    "with open('dataframe_papers.pickle', 'wb') as f:\n",
    "    pickle.dump(df_final, f)"
   ]
  }
 ],
 "metadata": {
  "hide_input": false,
  "kernelspec": {
   "display_name": "Python 3 (ipykernel)",
   "language": "python",
   "name": "python3"
  },
  "language_info": {
   "codemirror_mode": {
    "name": "ipython",
    "version": 3
   },
   "file_extension": ".py",
   "mimetype": "text/x-python",
   "name": "python",
   "nbconvert_exporter": "python",
   "pygments_lexer": "ipython3",
   "version": "3.9.7"
  },
  "toc": {
   "base_numbering": 1,
   "nav_menu": {},
   "number_sections": true,
   "sideBar": true,
   "skip_h1_title": false,
   "title_cell": "Table of Contents",
   "title_sidebar": "Contents",
   "toc_cell": false,
   "toc_position": {},
   "toc_section_display": true,
   "toc_window_display": false
  },
  "varInspector": {
   "cols": {
    "lenName": 16,
    "lenType": 16,
    "lenVar": 40
   },
   "kernels_config": {
    "python": {
     "delete_cmd_postfix": "",
     "delete_cmd_prefix": "del ",
     "library": "var_list.py",
     "varRefreshCmd": "print(var_dic_list())"
    },
    "r": {
     "delete_cmd_postfix": ") ",
     "delete_cmd_prefix": "rm(",
     "library": "var_list.r",
     "varRefreshCmd": "cat(var_dic_list()) "
    }
   },
   "types_to_exclude": [
    "module",
    "function",
    "builtin_function_or_method",
    "instance",
    "_Feature"
   ],
   "window_display": false
  }
 },
 "nbformat": 4,
 "nbformat_minor": 5
}
